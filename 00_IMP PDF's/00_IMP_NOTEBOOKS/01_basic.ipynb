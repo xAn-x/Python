{
 "cells": [
  {
   "cell_type": "code",
   "execution_count": null,
   "metadata": {
    "colab": {},
    "colab_type": "code",
    "id": "FJBG_W7JZgww"
   },
   "outputs": [],
   "source": [
    "#This is a supplementary material to the lecture \"Python Basics\" to quickly revise, whenever needed"
   ]
  },
  {
   "cell_type": "code",
   "execution_count": null,
   "metadata": {
    "colab": {
     "base_uri": "https://localhost:8080/",
     "height": 52
    },
    "colab_type": "code",
    "executionInfo": {
     "elapsed": 1338,
     "status": "ok",
     "timestamp": 1576696323925,
     "user": {
      "displayName": "Narendra Sajwani",
      "photoUrl": "https://lh3.googleusercontent.com/a-/AAuE7mBi3P7Y0diZ-TDARlj35RaLsNFJiS-dOBQnze84Lw=s64",
      "userId": "06356874149042807138"
     },
     "user_tz": -330
    },
    "id": "gTjzMA7LaHb0",
    "outputId": "1efdc529-894d-47d1-8a12-03db3d9c916c"
   },
   "outputs": [
    {
     "name": "stdout",
     "output_type": "stream",
     "text": [
      "5 <class 'int'>\n",
      "this is a sample text <class 'str'>\n"
     ]
    }
   ],
   "source": [
    "#variables\n",
    "#you can create a variable as follows\n",
    "a = 5                           #variable a is containing integer 5\n",
    "print(a, type(a))\n",
    "#no need to specify the data type like in other languages like c++ or java\n",
    "#the same variable can be re-assigned another value of any other type as well\n",
    "a = 'this is a sample text'     #variable a has been re-assigned to contain a string, string can be specified in single or double quotes, but they have to be consistent\n",
    "print(a, type(a))"
   ]
  },
  {
   "cell_type": "code",
   "execution_count": null,
   "metadata": {
    "colab": {
     "base_uri": "https://localhost:8080/",
     "height": 52
    },
    "colab_type": "code",
    "executionInfo": {
     "elapsed": 13583,
     "status": "ok",
     "timestamp": 1576696571931,
     "user": {
      "displayName": "Narendra Sajwani",
      "photoUrl": "https://lh3.googleusercontent.com/a-/AAuE7mBi3P7Y0diZ-TDARlj35RaLsNFJiS-dOBQnze84Lw=s64",
      "userId": "06356874149042807138"
     },
     "user_tz": -330
    },
    "id": "PzWPvBn0bLFj",
    "outputId": "71eeba76-dcd5-4b02-ff85-1d9a374d91e8"
   },
   "outputs": [
    {
     "name": "stdout",
     "output_type": "stream",
     "text": [
      "input two numbers\n",
      "45 78\n"
     ]
    }
   ],
   "source": [
    "#taking input from user\n",
    "#by default, the input taken from user is taken as string\n",
    "print('input two numbers')\n",
    "a = input()"
   ]
  },
  {
   "cell_type": "code",
   "execution_count": null,
   "metadata": {
    "colab": {
     "base_uri": "https://localhost:8080/",
     "height": 34
    },
    "colab_type": "code",
    "executionInfo": {
     "elapsed": 1446,
     "status": "ok",
     "timestamp": 1576696577154,
     "user": {
      "displayName": "Narendra Sajwani",
      "photoUrl": "https://lh3.googleusercontent.com/a-/AAuE7mBi3P7Y0diZ-TDARlj35RaLsNFJiS-dOBQnze84Lw=s64",
      "userId": "06356874149042807138"
     },
     "user_tz": -330
    },
    "id": "vuYypRYfboFr",
    "outputId": "ef637b72-0f3c-449e-b7f2-939659c050b0"
   },
   "outputs": [
    {
     "name": "stdout",
     "output_type": "stream",
     "text": [
      "45 78 <class 'str'>\n"
     ]
    }
   ],
   "source": [
    "#let's print a and see what does it contain\n",
    "print(a, type(a))"
   ]
  },
  {
   "cell_type": "code",
   "execution_count": null,
   "metadata": {
    "colab": {
     "base_uri": "https://localhost:8080/",
     "height": 34
    },
    "colab_type": "code",
    "executionInfo": {
     "elapsed": 1167,
     "status": "ok",
     "timestamp": 1576696704543,
     "user": {
      "displayName": "Narendra Sajwani",
      "photoUrl": "https://lh3.googleusercontent.com/a-/AAuE7mBi3P7Y0diZ-TDARlj35RaLsNFJiS-dOBQnze84Lw=s64",
      "userId": "06356874149042807138"
     },
     "user_tz": -330
    },
    "id": "bOaAE2Hobtzs",
    "outputId": "605b135a-96a5-40d7-cd53-ef85ed35e81a"
   },
   "outputs": [
    {
     "data": {
      "text/plain": [
       "['45', '78']"
      ]
     },
     "execution_count": 7,
     "metadata": {
      "tags": []
     },
     "output_type": "execute_result"
    }
   ],
   "source": [
    "#so we can see the the complete input has been taken as string\n",
    "#we can now process it to extract the two numbers from this string as follows:\n",
    "list1 = a.split(' ')     #this will split the input string across whitespaces and give list of strings\n",
    "list1"
   ]
  },
  {
   "cell_type": "code",
   "execution_count": null,
   "metadata": {
    "colab": {
     "base_uri": "https://localhost:8080/",
     "height": 69
    },
    "colab_type": "code",
    "executionInfo": {
     "elapsed": 1459,
     "status": "ok",
     "timestamp": 1576698202272,
     "user": {
      "displayName": "Narendra Sajwani",
      "photoUrl": "https://lh3.googleusercontent.com/a-/AAuE7mBi3P7Y0diZ-TDARlj35RaLsNFJiS-dOBQnze84Lw=s64",
      "userId": "06356874149042807138"
     },
     "user_tz": -330
    },
    "id": "Wl68-CWqhkm1",
    "outputId": "d5be1d14-c028-4c54-b889-748ea6bb846c"
   },
   "outputs": [
    {
     "name": "stdout",
     "output_type": "stream",
     "text": [
      "[2, 'hello', 4.56, 7.0]\n",
      "hello\n",
      "hey\n"
     ]
    }
   ],
   "source": [
    "#on a side note, list in python is just collection of data (may not be of same type)\n",
    "example_list = [2, 'hello', 4.56, 7.0]\n",
    "print(example_list)\n",
    "#indexing of the elements in the list starts from 0\n",
    "#any element can be acessed by its index like this\n",
    "print(example_list[1])\n",
    "#any element at a particular index can be updated to new value\n",
    "example_list[1] = 'hey'\n",
    "print(example_list[1])"
   ]
  },
  {
   "cell_type": "code",
   "execution_count": null,
   "metadata": {
    "colab": {
     "base_uri": "https://localhost:8080/",
     "height": 34
    },
    "colab_type": "code",
    "executionInfo": {
     "elapsed": 1368,
     "status": "ok",
     "timestamp": 1576696888038,
     "user": {
      "displayName": "Narendra Sajwani",
      "photoUrl": "https://lh3.googleusercontent.com/a-/AAuE7mBi3P7Y0diZ-TDARlj35RaLsNFJiS-dOBQnze84Lw=s64",
      "userId": "06356874149042807138"
     },
     "user_tz": -330
    },
    "id": "X7Q_rjvWcmj6",
    "outputId": "6a8551e1-9550-4848-a77c-17e5f2071110"
   },
   "outputs": [
    {
     "name": "stdout",
     "output_type": "stream",
     "text": [
      "45 78\n"
     ]
    }
   ],
   "source": [
    "#we can now extract these two nos. as integer from this list\n",
    "num1 = int(list1[0])\n",
    "num2 = int(list1[1])\n",
    "print(num1, num2)"
   ]
  },
  {
   "cell_type": "code",
   "execution_count": null,
   "metadata": {
    "colab": {
     "base_uri": "https://localhost:8080/",
     "height": 69
    },
    "colab_type": "code",
    "executionInfo": {
     "elapsed": 5536,
     "status": "ok",
     "timestamp": 1576697217681,
     "user": {
      "displayName": "Narendra Sajwani",
      "photoUrl": "https://lh3.googleusercontent.com/a-/AAuE7mBi3P7Y0diZ-TDARlj35RaLsNFJiS-dOBQnze84Lw=s64",
      "userId": "06356874149042807138"
     },
     "user_tz": -330
    },
    "id": "tNUPp_I8c9pw",
    "outputId": "b35b0fd6-2946-44ff-9fb1-702f34a15196"
   },
   "outputs": [
    {
     "name": "stdout",
     "output_type": "stream",
     "text": [
      "enter two numbers\n",
      "25 30\n",
      "n1:  25 n2:  30\n"
     ]
    }
   ],
   "source": [
    "#the above steps for taking 2 numbers input can be written in one line of code as follows:\n",
    "print('enter two numbers')\n",
    "n1, n2 = [int(item) for item in input().strip().split(' ')]   #here it means that for every item in the list created by the split(), convert it to an int, (we could specify any other expression also for each item as per use case)\n",
    "print('n1: ', n1, 'n2: ', n2)\n"
   ]
  },
  {
   "cell_type": "code",
   "execution_count": null,
   "metadata": {
    "colab": {},
    "colab_type": "code",
    "id": "kXVg7v3ue_pY"
   },
   "outputs": [],
   "source": [
    "#string slicing\n",
    "str = \"this is a sample text\""
   ]
  },
  {
   "cell_type": "code",
   "execution_count": null,
   "metadata": {
    "colab": {
     "base_uri": "https://localhost:8080/",
     "height": 34
    },
    "colab_type": "code",
    "executionInfo": {
     "elapsed": 1355,
     "status": "ok",
     "timestamp": 1576697529400,
     "user": {
      "displayName": "Narendra Sajwani",
      "photoUrl": "https://lh3.googleusercontent.com/a-/AAuE7mBi3P7Y0diZ-TDARlj35RaLsNFJiS-dOBQnze84Lw=s64",
      "userId": "06356874149042807138"
     },
     "user_tz": -330
    },
    "id": "YeJ0MTl4fXJi",
    "outputId": "2f3b375b-70d5-4270-aa18-8577ad516d32"
   },
   "outputs": [
    {
     "data": {
      "text/plain": [
       "'is is'"
      ]
     },
     "execution_count": 16,
     "metadata": {
      "tags": []
     },
     "output_type": "execute_result"
    }
   ],
   "source": [
    "#now, we can have a substring of the string str using slicing as follow:\n",
    "slice1 = str[2:7]   #this will return the substring of str from index 2 till index 6 (end_index-1)\n",
    "slice1"
   ]
  },
  {
   "cell_type": "code",
   "execution_count": null,
   "metadata": {
    "colab": {
     "base_uri": "https://localhost:8080/",
     "height": 69
    },
    "colab_type": "code",
    "executionInfo": {
     "elapsed": 1525,
     "status": "ok",
     "timestamp": 1576697758462,
     "user": {
      "displayName": "Narendra Sajwani",
      "photoUrl": "https://lh3.googleusercontent.com/a-/AAuE7mBi3P7Y0diZ-TDARlj35RaLsNFJiS-dOBQnze84Lw=s64",
      "userId": "06356874149042807138"
     },
     "user_tz": -330
    },
    "id": "ue2GF_bMel2R",
    "outputId": "c041c1c5-187f-42a1-8591-819fa84a7341"
   },
   "outputs": [
    {
     "name": "stdout",
     "output_type": "stream",
     "text": [
      "this is a \n",
      "is a sample text\n",
      "this is a sample text\n"
     ]
    }
   ],
   "source": [
    "#there are other variants of this, if you want to specify, just the starting index or just the end index, you can do so\n",
    "slice2 = str[:10]     #this will return substring of str from index 0 till index 9\n",
    "slice3 = str[5:]      #this will return substring of str from index 5 to the end of the string str\n",
    "slice4 = str[:]       #this will return complete string str, there is not much use of it as complete string is str itself\n",
    "print(slice2)\n",
    "print(slice3)\n",
    "print(slice4)"
   ]
  },
  {
   "cell_type": "code",
   "execution_count": null,
   "metadata": {
    "colab": {},
    "colab_type": "code",
    "id": "4ssS9E8qgnym"
   },
   "outputs": [],
   "source": [
    "#one thing to remember is that string are immutable, means you can not change a string, it can be reassigned to a new string\n",
    "#str[5] = 'q'  #will produce error\n",
    "str = 'new sample text'   #this will work fine like any other assignment to the variable\n"
   ]
  },
  {
   "cell_type": "code",
   "execution_count": null,
   "metadata": {
    "colab": {
     "base_uri": "https://localhost:8080/",
     "height": 69
    },
    "colab_type": "code",
    "executionInfo": {
     "elapsed": 1337,
     "status": "ok",
     "timestamp": 1576698511016,
     "user": {
      "displayName": "Narendra Sajwani",
      "photoUrl": "https://lh3.googleusercontent.com/a-/AAuE7mBi3P7Y0diZ-TDARlj35RaLsNFJiS-dOBQnze84Lw=s64",
      "userId": "06356874149042807138"
     },
     "user_tz": -330
    },
    "id": "1lEtxDY9gKQs",
    "outputId": "8a5f2f0f-0294-4cff-8654-733c18f5ee09"
   },
   "outputs": [
    {
     "name": "stdout",
     "output_type": "stream",
     "text": [
      "(2, 'hello', 4.56, 7.0)\n",
      "hello\n",
      "(4.0, 'hey', 65)\n"
     ]
    }
   ],
   "source": [
    "#Tuples\n",
    "#Tuples in python are like list as collection of data with one major difference is that, tuples are immutable \n",
    "#and they are specified in parentheses instead of square brackets as in the case of list\n",
    "#i.e. their elements can't be updated once initialized\n",
    "example_tuple = (2, 'hello', 4.56, 7.0)\n",
    "print(example_tuple)\n",
    "#any element can be acessed by its index like this\n",
    "print(example_tuple[1])\n",
    "#following assignment will give an error\n",
    "#example_tuple[1] = 'hey'\n",
    "#however, it can be reassigned to new tuple as any other re-assignment\n",
    "example_tuple = (4.0, 'hey', 65)\n",
    "print(example_tuple)"
   ]
  },
  {
   "cell_type": "code",
   "execution_count": null,
   "metadata": {
    "colab": {},
    "colab_type": "code",
    "id": "vxJeTd8Ijqeh"
   },
   "outputs": [],
   "source": [
    "#slicing in tuple works same as, we have seen for the strings\n",
    "#give it a try by yourself\n",
    "#Thanks, Happy coding!"
   ]
  },
  {
   "cell_type": "code",
   "execution_count": null,
   "metadata": {},
   "outputs": [],
   "source": []
  }
 ],
 "metadata": {
  "colab": {
   "collapsed_sections": [],
   "name": "handouts_python_basics.ipynb",
   "provenance": []
  },
  "kernelspec": {
   "display_name": "Python 3 (ipykernel)",
   "language": "python",
   "name": "python3"
  },
  "language_info": {
   "codemirror_mode": {
    "name": "ipython",
    "version": 3
   },
   "file_extension": ".py",
   "mimetype": "text/x-python",
   "name": "python",
   "nbconvert_exporter": "python",
   "pygments_lexer": "ipython3",
   "version": "3.9.7"
  }
 },
 "nbformat": 4,
 "nbformat_minor": 1
}
