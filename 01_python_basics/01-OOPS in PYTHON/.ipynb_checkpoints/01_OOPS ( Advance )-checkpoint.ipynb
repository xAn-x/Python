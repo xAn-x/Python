{
 "cells": [
  {
   "cell_type": "raw",
   "id": "daad7acf",
   "metadata": {},
   "source": [
    "4 Pillars of OOPS->\n",
    "    @ Encapsulation -> Packing Data Inside a single Module.We can use access specifier\n",
    "    @ Abstraction -> Hiding Implementation details and showing only necessary INFO\n",
    "    @ PolyMorphism \n",
    "    @ Inheritance"
   ]
  },
  {
   "cell_type": "markdown",
   "id": "1f805a86",
   "metadata": {},
   "source": [
    "--------------------ABSTRACTION------------------------"
   ]
  },
  {
   "cell_type": "raw",
   "id": "b5778151",
   "metadata": {},
   "source": [
    "----Acess-Modifiers----\n",
    "\n",
    "# public -> The members of a class that are declared public are easily accessible from any part of the program. All data members and member functions of a class are public by default. \n",
    "\n",
    "# protected -> The members of a class that are declared protected are only accessible to a class derived from it. Data members/methods of a class are declared protected by adding a single underscore ‘_’ symbol before the data member/method of that class. \n",
    "\n",
    "# private -> The members of a class that are declared private are accessible within the class only, private access modifier is the most secure access modifier. Data members of a class are declared private by adding a double underscore ‘__’ symbol before the data member of that class. "
   ]
  },
  {
   "cell_type": "code",
   "execution_count": 9,
   "id": "d4032740",
   "metadata": {},
   "outputs": [
    {
     "name": "stdout",
     "output_type": "stream",
     "text": [
      "School Name: K.V-Mhow\n",
      "School Address: Cunnigum Road,near Gupta Bakery\n",
      "Marks:97\n"
     ]
    }
   ],
   "source": [
    "class Student:\n",
    "    def __init__(self,name,rollNo):\n",
    "        #name and roll no are declared public\n",
    "        self.name = name\n",
    "        self.rollNo = rollNo\n",
    "        \n",
    "        #schoolName and schoolAddress are declared protected\n",
    "        self._schoolName=\"K.V-Mhow\"\n",
    "        self._schoolAddress=\"Cunnigum Road,near Gupta Bakery\"\n",
    "    \n",
    "    def getSchoolInfo(self):\n",
    "        print(f\"School Name: {self._schoolName}\\nSchool Address: {self._schoolAddress}\")\n",
    "    \n",
    "    \n",
    "   #marks is declared as private->\n",
    "    __marks=None\n",
    "    def setMarks(self,__marks):\n",
    "        self.__marks=__marks\n",
    "    \n",
    "    def getMarks(self):\n",
    "        print(f\"Marks:{self.__marks}\")\n",
    "        \n",
    "s1=Student(\"Deepanshu\",42)\n",
    "s1.getSchoolInfo()\n",
    "\n",
    "s1.setMarks(97)\n",
    "s1.getMarks()"
   ]
  },
  {
   "cell_type": "markdown",
   "id": "41911957",
   "metadata": {},
   "source": [
    "--------------INHERITANCE----------------"
   ]
  },
  {
   "cell_type": "raw",
   "id": "a70f0a55",
   "metadata": {},
   "source": [
    "Inheritance is the capability of one class to derive or inherit the properties from another class. The benefits of inheritance are: \n",
    "\n",
    "1.It represents real-world relationships well.\n",
    "\n",
    "2.It provides reusability of a code. We don’t have to write the same code again and again. Also, it allows us to add more features to a class without modifying it.\n",
    "\n",
    "3.It is transitive in nature, which means that if class B inherits from another class A, then all the subclasses of B would automatically inherit from class A.\n",
    "\n",
    "\n",
    "To inherit class Syntax:-\n",
    "\n",
    "Child_Class_Name(Parent_Class_name):\n",
    "        ---body---\n",
    "        \n",
    "to learn more follow->https://www.geeksforgeeks.org/inheritance-in-python/"
   ]
  },
  {
   "cell_type": "code",
   "execution_count": 57,
   "id": "d2252d5c",
   "metadata": {},
   "outputs": [
    {
     "name": "stdout",
     "output_type": "stream",
     "text": [
      "A Human created!!\n",
      "mouth:1 eyes:2 ears:2 hands:2 legs:2 nose:1\n"
     ]
    }
   ],
   "source": [
    "class Human:\n",
    "    \n",
    "    def __init__(self,hands=2,legs=2,eyes=2,ears=2,mouth=1,nose=1):    \n",
    "        print(\"A Human created!!\")\n",
    "        \n",
    "        self.hands=hands;\n",
    "        self.legs=legs;\n",
    "        self.eyes=eyes;\n",
    "        self.ears=ears;\n",
    "        self.mouth=mouth;\n",
    "        self.nose=nose;\n",
    "        \n",
    "    \n",
    "    def printInfo(self):\n",
    "        print(f\"mouth:{self.mouth} eyes:{self.eyes} ears:{self.ears} hands:{self.hands} legs:{self.legs} nose:{self.nose}\")\n",
    "    \n",
    "h1=Human()\n",
    "h1.printInfo()"
   ]
  },
  {
   "cell_type": "code",
   "execution_count": 58,
   "id": "2be407b9",
   "metadata": {},
   "outputs": [
    {
     "name": "stdout",
     "output_type": "stream",
     "text": [
      "A Human created!!\n",
      "A Boy is born\n",
      "mouth:1 eyes:2 ears:2 hands:1 legs:2 nose:1\n"
     ]
    }
   ],
   "source": [
    "class Boy(Human):\n",
    "    gender=\"Male\"\n",
    "    \n",
    "    def __init__(self):\n",
    "        Human.__init__(self,hands=1) # Note in python u need to explicitly call Human class Contructor\n",
    "        print(\"A Boy is born\")\n",
    "    \n",
    "    def printBoyInfo(self):\n",
    "        self.printInfo() # We can access Parent class method by this also->parentClass.func(self)\n",
    "        print(f\"gender:{self.gender}\")\n",
    "            \n",
    "\n",
    "b1=Boy()\n",
    "b1.printInfo()"
   ]
  },
  {
   "cell_type": "code",
   "execution_count": 59,
   "id": "9d0d4c43",
   "metadata": {},
   "outputs": [
    {
     "name": "stdout",
     "output_type": "stream",
     "text": [
      "True\n",
      "True\n",
      "True\n",
      "False\n",
      "True\n",
      "True\n"
     ]
    }
   ],
   "source": [
    "# Now python has a handy functio isinstance(instance,Class)->chk if we have passed instance in passed class\n",
    "\n",
    "print(isinstance(b1,Boy))\n",
    "print(isinstance(b1,Human)) #Note this will output true as Boy class is derived from Human and before creating any obj of Boy class Human class obj wil be inititated\n",
    "\n",
    "\n",
    "print(isinstance(h1,Human))\n",
    "print(isinstance(h1,Boy)) #Parent class object does not depend on child class obj to get initialized so will throw false for this \n",
    "\n",
    "\n",
    "# Note in python everthing is object and they have 1 common class -> \"object\" class which inherits all other classes weather it's your own\n",
    "print(isinstance(h1,object))\n",
    "print(isinstance(h1,object))"
   ]
  },
  {
   "cell_type": "markdown",
   "id": "e2ed2af4",
   "metadata": {},
   "source": [
    "----------POLYMORPHISM---------"
   ]
  },
  {
   "cell_type": "raw",
   "id": "93a560c1",
   "metadata": {},
   "source": [
    "The word polymorphism means having many forms. In programming, polymorphism means the same function name (but different signatures) being used for different types.\n",
    "\n",
    "to learn more->https://www.geeksforgeeks.org/polymorphism-in-python/"
   ]
  },
  {
   "cell_type": "code",
   "execution_count": 52,
   "id": "6d129b4d",
   "metadata": {},
   "outputs": [
    {
     "name": "stdout",
     "output_type": "stream",
     "text": [
      "New Delhi is the capital of India.\n",
      "Hindi is the most widely spoken language of India.\n",
      "India is a developing country.\n",
      "\n",
      "Washington D.C. is the capital of USA.\n",
      "English is the primary language of USA.\n",
      "USA is a developed country.\n",
      "\n"
     ]
    }
   ],
   "source": [
    "class India():\n",
    "    def capital(self):\n",
    "        print(\"New Delhi is the capital of India.\")\n",
    "     \n",
    "    def language(self):\n",
    "        print(\"Hindi is the most widely spoken language of India.\")\n",
    " \n",
    "    def type(self):\n",
    "        print(\"India is a developing country.\\n\")\n",
    " \n",
    "\n",
    "\n",
    "class USA():\n",
    "    def capital(self):\n",
    "        print(\"Washington D.C. is the capital of USA.\")\n",
    " \n",
    "    def language(self):\n",
    "        print(\"English is the primary language of USA.\")\n",
    " \n",
    "    def type(self):\n",
    "        print(\"USA is a developed country.\\n\")\n",
    " \n",
    "obj_ind = India()\n",
    "obj_usa = USA()\n",
    "for country in (obj_ind, obj_usa):\n",
    "    country.capital()\n",
    "    country.language()\n",
    "    country.type()"
   ]
  },
  {
   "cell_type": "raw",
   "id": "ba662c62",
   "metadata": {},
   "source": [
    "----super()----\n",
    "\n",
    "super() -> The super() function is used to give access to methods and properties of a parent or sibling class. The super() function returns an object that represents the parent class.\n",
    "\n",
    "super return object of Parent class\n"
   ]
  },
  {
   "cell_type": "code",
   "execution_count": 65,
   "id": "2c43d2ac",
   "metadata": {},
   "outputs": [
    {
     "name": "stdout",
     "output_type": "stream",
     "text": [
      "A Human created!!\n",
      "A Girl is born\n",
      "mouth:1 eyes:2 ears:2 hands:2 legs:2 nose:1\n",
      "gender:Fe-Male\n",
      "-----------------------------------\n",
      "\n",
      "mouth:1 eyes:2 ears:2 hands:2 legs:2 nose:1\n"
     ]
    }
   ],
   "source": [
    "class Girl(Human):\n",
    "    gender=\"Fe-Male\"\n",
    "    \n",
    "    def __init__(self):\n",
    "#         Human.__init__(self) # Note in python u need to explicitly call Human class Contructor\n",
    "        super().__init__()  #alternate way\n",
    "        print(\"A Girl is born\")\n",
    "    \n",
    "    def printGirlInfo(self):\n",
    "#         self.printInfo() \n",
    "        super().printInfo()  #alternate way\n",
    "        print(f\"gender:{self.gender}\")\n",
    "    \n",
    "g1=Girl()\n",
    "print(\"-----------------------------------\\n\")\n",
    "\n",
    "g1.printGirlInfo() # this will invoke method of girl class\n",
    "\n",
    "print(\"-----------------------------------\\n\")\n",
    "g1.printInfo()#this will invoke method inherited from Human class"
   ]
  },
  {
   "cell_type": "markdown",
   "id": "0e5b9bb0",
   "metadata": {},
   "source": [
    "--------CODE INTROSPECTION IN PYTHON---------"
   ]
  },
  {
   "cell_type": "raw",
   "id": "bd51ad51",
   "metadata": {},
   "source": [
    "Introspection is an ability to determine the type of an object at runtime. Everything in python is an object. Every object in Python may have attributes and methods. By using introspection, we can dynamically examine python objects.\n",
    "\n",
    "functions like dir(obj) , hasattr(object,\"attrName\") , getattr(object,\"atrrName\") etc used to to object introspection"
   ]
  },
  {
   "cell_type": "code",
   "execution_count": 89,
   "id": "af4f79e2",
   "metadata": {},
   "outputs": [
    {
     "name": "stdout",
     "output_type": "stream",
     "text": [
      "['__class__', '__delattr__', '__dict__', '__dir__', '__doc__', '__eq__', '__format__', '__ge__', '__getattribute__', '__gt__', '__hash__', '__init__', '__init_subclass__', '__le__', '__lt__', '__module__', '__ne__', '__new__', '__reduce__', '__reduce_ex__', '__repr__', '__setattr__', '__sizeof__', '__str__', '__subclasshook__', '__weakref__', 'ears', 'eyes', 'gender', 'hands', 'legs', 'mouth', 'nose', 'printGirlInfo', 'printInfo']\n",
      "\n",
      "\n",
      "\n",
      "{'hands': 2, 'legs': 2, 'eyes': 2, 'ears': 2, 'mouth': 1, 'nose': 1}\n"
     ]
    }
   ],
   "source": [
    "# dir(object) -> return all necessary info abouth this object\n",
    "print(dir(g1))\n",
    "print(\"\\n\\n\")\n",
    "print(g1.__dict__)"
   ]
  },
  {
   "cell_type": "markdown",
   "id": "ad3f7b9e",
   "metadata": {},
   "source": [
    "------DUNDER METHOD IN PYTHON-------"
   ]
  },
  {
   "cell_type": "raw",
   "id": "82df9e75",
   "metadata": {},
   "source": [
    "Dunder or magic methods in Python are the methods having two prefix and suffix underscores in the method name. Dunder here means “Double Under (Underscores)”. These are commonly used for operator overloading. Few examples for magic methods are: __init__, __add__, __len__, __repr__ etc.\n",
    "\n",
    "To learn More->https://www.geeksforgeeks.org/dunder-magic-methods-python/"
   ]
  },
  {
   "cell_type": "code",
   "execution_count": 77,
   "id": "a5acb409",
   "metadata": {},
   "outputs": [
    {
     "name": "stdout",
     "output_type": "stream",
     "text": [
      "<method-wrapper '__gt__' of Girl object at 0x000002A821034100>\n"
     ]
    }
   ],
   "source": [
    "print(g1.__gt__)"
   ]
  },
  {
   "cell_type": "code",
   "execution_count": 107,
   "id": "d6389cb7",
   "metadata": {},
   "outputs": [
    {
     "name": "stdout",
     "output_type": "stream",
     "text": [
      "Name:Deepanshu  Year:2\n",
      "Name:Deepanshu  Year:2\n",
      "2\n",
      "2\n",
      "Name:Deepanshu  Year:2\n"
     ]
    }
   ],
   "source": [
    "# We can cumtomise Dunder method for our own ease \n",
    "class Student:\n",
    "    def __init__(self,name,yr):\n",
    "        self.name=name\n",
    "        self.yr=yr\n",
    "    \n",
    "    def __str__(self): #This method return a string when we say str(obj) or obj.__str__()\n",
    "        return f\"Name:{self.name}  Year:{self.yr}\"\n",
    "    \n",
    "    def __len__(self):\n",
    "        return len(self.__dict__) #Programe len to return no of attribute a student obj has\n",
    "\n",
    "s1=Student(\"Deepanshu\",2)\n",
    "print(str(s1))\n",
    "print(s1.__str__())\n",
    "\n",
    "print(len(s1))\n",
    "print(s1.__len__())\n",
    "\n",
    "print(s1) #- Note once u overide __str__() then on print() u will get the same result"
   ]
  },
  {
   "cell_type": "raw",
   "id": "9220df28",
   "metadata": {},
   "source": [
    "Exercise->Make a class super list which has all functionalities of list but whenever we call for len(lst) it should always return 100"
   ]
  },
  {
   "cell_type": "code",
   "execution_count": 106,
   "id": "261553fd",
   "metadata": {},
   "outputs": [
    {
     "name": "stdout",
     "output_type": "stream",
     "text": [
      "[0, 1, 2, 3, 4, 5, 6, 7, 8, 9]\n",
      "100\n",
      "True\n"
     ]
    }
   ],
   "source": [
    "class SuperList(list):\n",
    "    def __len__(self):\n",
    "        return 100\n",
    "    \n",
    "sl=SuperList()\n",
    "for i in range(10):\n",
    "    sl.append(i)\n",
    "\n",
    "print(sl)   \n",
    "print(len(sl))\n",
    "\n",
    "print(issubclass(SuperList,list))"
   ]
  },
  {
   "cell_type": "markdown",
   "id": "3345a5e4",
   "metadata": {},
   "source": [
    "--------METHOD RESOLUTION ORDER--------"
   ]
  },
  {
   "cell_type": "raw",
   "id": "767b3f5e",
   "metadata": {},
   "source": [
    "MRO is a concept used in inheritance. It is the order in which a method is searched for in a classes hierarchy and is especially useful in Python because Python supports multiple inheritance.\n",
    "\n",
    "MRO tells u how python look for a method in case of Inheritance and u can also know the path by doing->\n",
    "className.mro()"
   ]
  },
  {
   "cell_type": "code",
   "execution_count": 115,
   "id": "5ad95cc7",
   "metadata": {},
   "outputs": [
    {
     "name": "stdout",
     "output_type": "stream",
     "text": [
      "1\n",
      "[<class '__main__.D'>, <class '__main__.B'>, <class '__main__.C'>, <class '__main__.A'>, <class 'object'>]\n"
     ]
    }
   ],
   "source": [
    "class A:\n",
    "    num=100\n",
    "\n",
    "class B(A):\n",
    "    pass\n",
    "\n",
    "class C(A):\n",
    "    num=1\n",
    "\n",
    "class D(B,C,A):\n",
    "    pass\n",
    "\n",
    "print(D.num) #->So it search in D 1st then in B then in C and there find num so print that\n",
    "print(D.mro())#U can chk this also\n",
    "\n",
    "# NOTE->mro() use DFS to find it paths"
   ]
  },
  {
   "cell_type": "code",
   "execution_count": null,
   "id": "25ae1aa1",
   "metadata": {},
   "outputs": [],
   "source": []
  }
 ],
 "metadata": {
  "kernelspec": {
   "display_name": "Python 3 (ipykernel)",
   "language": "python",
   "name": "python3"
  },
  "language_info": {
   "codemirror_mode": {
    "name": "ipython",
    "version": 3
   },
   "file_extension": ".py",
   "mimetype": "text/x-python",
   "name": "python",
   "nbconvert_exporter": "python",
   "pygments_lexer": "ipython3",
   "version": "3.9.7"
  }
 },
 "nbformat": 4,
 "nbformat_minor": 5
}
