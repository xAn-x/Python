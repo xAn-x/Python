{
 "cells": [
  {
   "cell_type": "code",
   "execution_count": 1,
   "id": "662adbeb",
   "metadata": {},
   "outputs": [
    {
     "name": "stdout",
     "output_type": "stream",
     "text": [
      "<class '__main__.myClass'>\n"
     ]
    }
   ],
   "source": [
    "# BASIC CLASS->\n",
    "\n",
    "class MyClass: #Instantiate a class\n",
    "    pass #Code\n",
    "\n",
    "obj1=MyClass() #Instantiate a class object\n",
    "print(type(obj1))"
   ]
  },
  {
   "cell_type": "code",
   "execution_count": 4,
   "id": "cf7b2d94",
   "metadata": {},
   "outputs": [
    {
     "name": "stdout",
     "output_type": "stream",
     "text": [
      "{'name': 'Deepanshu Bhatt', 'rollNo': 42}\n",
      "{'collegeName': 'College ka naam'}\n"
     ]
    }
   ],
   "source": [
    "# Note in python each object can have diffrent self attribute ->\n",
    "class Student:\n",
    "    pass\n",
    "\n",
    "stud1=Student()\n",
    "stud1.name=\"Deepanshu Bhatt\"\n",
    "stud1.rollNo=42\n",
    "\n",
    "#Note: attributes u add outside class for an obj only if u create a new obj and try to print these attr of it u will get an error as for that attributes is not +nt till now\n",
    "\n",
    "stud2=Student()\n",
    "stud2.collegeName=\"College ka naam\"\n",
    "\n",
    "#__dict__ ->this will return a dictionary that contains all self attribute bound to an object \n",
    "print(stud1.__dict__) \n",
    "print(stud2.__dict__)"
   ]
  },
  {
   "cell_type": "raw",
   "id": "b7c77948",
   "metadata": {},
   "source": [
    "----------------- Generic funtion for all classes that we can use too----------------------"
   ]
  },
  {
   "cell_type": "code",
   "execution_count": null,
   "id": "18445de3",
   "metadata": {},
   "outputs": [],
   "source": [
    "#__dict__ ->this will return a dictionary that contains all self attribute bound to an object \n",
    "print(stud1.__dict__) \n",
    "print(stud2.__dict__)"
   ]
  },
  {
   "cell_type": "code",
   "execution_count": 6,
   "id": "baa2ac4f",
   "metadata": {},
   "outputs": [
    {
     "name": "stdout",
     "output_type": "stream",
     "text": [
      "True\n",
      "False\n"
     ]
    }
   ],
   "source": [
    "# hasattr(obj,\"attr_name\") ->chk if for a particular object we have a particular attribute or not\n",
    "print(hasattr(stud1,\"name\"))\n",
    "print(hasattr(stud2,\"name\"))"
   ]
  },
  {
   "cell_type": "code",
   "execution_count": 8,
   "id": "edb72198",
   "metadata": {},
   "outputs": [
    {
     "name": "stdout",
     "output_type": "stream",
     "text": [
      "before {'collegeName': 'College ka naam'}\n",
      "after {'collegeName': 'College ka naam', 'name': 'Rohan'}\n"
     ]
    }
   ],
   "source": [
    "# setattr(onj,\"attr_name\",\"value\")->set attribute fot passed obj\n",
    "print(\"before\",stud2.__dict__)\n",
    "setattr(stud2,\"name\",\"Rohan\")\n",
    "print(\"after\",stud2.__dict__)"
   ]
  },
  {
   "cell_type": "code",
   "execution_count": 9,
   "id": "5bbd682c",
   "metadata": {},
   "outputs": [
    {
     "name": "stdout",
     "output_type": "stream",
     "text": [
      "before {'collegeName': 'College ka naam', 'name': 'Rohan'}\n",
      "after {'collegeName': 'College ka naam'}\n"
     ]
    }
   ],
   "source": [
    "# delattr(obj,\"attr_name\")->delete passed attribute for that obj\n",
    "print(\"before\",stud2.__dict__)\n",
    "delattr(stud2,\"name\")\n",
    "print(\"after\",stud2.__dict__)"
   ]
  },
  {
   "cell_type": "code",
   "execution_count": 10,
   "id": "5bebd081",
   "metadata": {},
   "outputs": [
    {
     "name": "stdout",
     "output_type": "stream",
     "text": [
      "College ka naam\n"
     ]
    }
   ],
   "source": [
    "# getattr(obj,\"attr_name\")->get value of passed attribute for that obj\n",
    "print(getattr(stud2,\"collegeName\"))"
   ]
  },
  {
   "cell_type": "code",
   "execution_count": 13,
   "id": "77c6f5dd",
   "metadata": {},
   "outputs": [
    {
     "name": "stdout",
     "output_type": "stream",
     "text": [
      "<__main__.Student object at 0x000002084F603100>    <__main__.Student object at 0x000002084F58AB50>\n"
     ]
    }
   ],
   "source": [
    "# U can print memory address of obj just by doing-> print(obj_name)\n",
    "print(stud2,\"  \",stud1)"
   ]
  },
  {
   "cell_type": "code",
   "execution_count": 18,
   "id": "d27e7985",
   "metadata": {},
   "outputs": [
    {
     "name": "stdout",
     "output_type": "stream",
     "text": [
      "Help on Student in module __main__ object:\n",
      "\n",
      "class Student(builtins.object)\n",
      " |  Data descriptors defined here:\n",
      " |  \n",
      " |  __dict__\n",
      " |      dictionary for instance variables (if defined)\n",
      " |  \n",
      " |  __weakref__\n",
      " |      list of weak references to the object (if defined)\n",
      "\n"
     ]
    }
   ],
   "source": [
    "# help(obj_name): If u want all info about an obj\n",
    "help(stud2)"
   ]
  },
  {
   "cell_type": "markdown",
   "id": "32691387",
   "metadata": {},
   "source": [
    "-----------------------------------ATTRIBUTES and METHODS-------------------------------"
   ]
  },
  {
   "cell_type": "raw",
   "id": "a934b97b",
   "metadata": {},
   "source": [
    "--------ATTRIBUTES---------"
   ]
  },
  {
   "cell_type": "code",
   "execution_count": 28,
   "id": "35ad8b9d",
   "metadata": {},
   "outputs": [
    {
     "name": "stdout",
     "output_type": "stream",
     "text": [
      "p1-> name:Deepanshu , hasWeapon:True\n",
      "p2-> hasWeapon:True\n"
     ]
    }
   ],
   "source": [
    "#self-attribute -> attribute associated with obj only is called self attribute.All attribute that we define outside class body are self-attribute\n",
    "\n",
    "#class-attribute -> attribute associated with whole class is called class-attribute.It will be there for all object we create.U can access them using name of obj but using class name is goodPractice\n",
    "\n",
    "class Player:\n",
    "    hasWeapon=True #Class-attribute\n",
    "\n",
    "p1=Player()\n",
    "p1.name=\"Deepanshu\"\n",
    "\n",
    "p2=Player()\n",
    "\n",
    "# For p1 I can access both name and hasWeapon but for p2 can access hasWeapon only\n",
    "\n",
    "print(f\"p1-> name:{p1.name} , hasWeapon:{Player.hasWeapon}\") #using class name to access class attribute\n",
    "print(f\"p2-> hasWeapon:{p2.hasWeapon}\") #using obj to access class attribute \n",
    "\n",
    "# To learn more->https://www.geeksforgeeks.org/class-instance-attributes-python/"
   ]
  },
  {
   "cell_type": "raw",
   "id": "7d99072a",
   "metadata": {},
   "source": [
    "------METHODS-------"
   ]
  },
  {
   "cell_type": "raw",
   "id": "b786b825",
   "metadata": {},
   "source": [
    "# Instance Methods->The basic methods that are called by an object is called Instance Methods.And thus they are to be called by an obj to specify that in python we need to pass first argument as 'self'.\n",
    "\n",
    "# Class Methods->Method bound to class and not obj is called Class Methods.They can be proveked by className and need no obj to invoke them.To make a method a class method we need to specify that in python by passing first argument as 'cls' and a class-method decorator(@classmethod).We can acess class Method throgh obj and className both but using className is good Practice.\n",
    "\n",
    "#Static Method->Method that we want in our class which are self sufficient of perfoming a task and we don't want that to acess class data we make them static.To make a method static in python we have to specify it using static-method decorator (@staticmethod). Static method can be invoked throgh obj and className."
   ]
  },
  {
   "cell_type": "code",
   "execution_count": 63,
   "id": "dc85cb5f",
   "metadata": {},
   "outputs": [
    {
     "name": "stdout",
     "output_type": "stream",
     "text": [
      "Hello Players! Welcome to the Jungle\n",
      "Hello Deepanshu\n",
      "Hello Players! Welcome to the Jungle\n",
      "55\n"
     ]
    }
   ],
   "source": [
    "class Player:\n",
    "    #instance Method\n",
    "    def greet(self):\n",
    "        print(f\"Hello {self.name}\")\n",
    "    \n",
    "    \n",
    "    # class Method\n",
    "    @classmethod\n",
    "    def getMessage(cls,msg=\"Hello Players! Welcome to the Jungle\"):\n",
    "        print(f\"{msg}\")\n",
    "    \n",
    "    \n",
    "    # Static Method\n",
    "    @staticmethod\n",
    "    def sum_till_10():\n",
    "        print(sum(range(1,11)))\n",
    "        \n",
    "\n",
    "Player.getMessage()\n",
    "        \n",
    "p1=Player()\n",
    "p1.name='Deepanshu'\n",
    "\n",
    "p1.greet() \n",
    "\n",
    "Player.getMessage()\n",
    "\n",
    "p1.sum_till_10()"
   ]
  },
  {
   "cell_type": "markdown",
   "id": "ffe5a32f",
   "metadata": {},
   "source": [
    "-----------------------CONSTRUCTOR in PYTHON---------------------"
   ]
  },
  {
   "cell_type": "code",
   "execution_count": 61,
   "id": "dbbd7108",
   "metadata": {},
   "outputs": [
    {
     "name": "stdout",
     "output_type": "stream",
     "text": [
      "Name: Deepanshu\n",
      "Age: 19\n",
      "Name: Rohan\n",
      "Age: 10\n"
     ]
    }
   ],
   "source": [
    "# __init__(self,args..)->Constructor in python has a special name (\"__init__\") it is a instance Method and is invoked every time we create an obj.We can do constructor overloading and all other stuff as we can like in C++/Java\n",
    "\n",
    "class Player:\n",
    "    def __init__(self,name,age=10):\n",
    "        self.name=name\n",
    "        self.age=age\n",
    "        \n",
    "    def getInfo(self):\n",
    "        print(f\"Name: {self.name}\\nAge: {self.age}\")\n",
    "        \n",
    "p1=Player(\"Deepanshu\",19)\n",
    "p1.getInfo()\n",
    "\n",
    "p2=Player(\"Rohan\")\n",
    "p2.getInfo()"
   ]
  },
  {
   "cell_type": "code",
   "execution_count": null,
   "id": "dc03a312",
   "metadata": {},
   "outputs": [],
   "source": []
  }
 ],
 "metadata": {
  "kernelspec": {
   "display_name": "Python 3 (ipykernel)",
   "language": "python",
   "name": "python3"
  },
  "language_info": {
   "codemirror_mode": {
    "name": "ipython",
    "version": 3
   },
   "file_extension": ".py",
   "mimetype": "text/x-python",
   "name": "python",
   "nbconvert_exporter": "python",
   "pygments_lexer": "ipython3",
   "version": "3.9.7"
  }
 },
 "nbformat": 4,
 "nbformat_minor": 5
}
