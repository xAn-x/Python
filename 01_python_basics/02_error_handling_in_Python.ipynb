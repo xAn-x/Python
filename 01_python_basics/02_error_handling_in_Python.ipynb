{
 "cells": [
  {
   "cell_type": "raw",
   "id": "2dc4051b",
   "metadata": {},
   "source": [
    "# There are many errors occur in python like->\n",
    "    # ZeroDivisionError->division by zero\n",
    "    # NameError->If using some var/method viz no define in +nt scope\n",
    "    # etc...\n",
    "\n",
    "# Now these error can break our code so its imp to catch them and handle them\n",
    "\n",
    "# In python we can use-->\n",
    "    # try:\n",
    "        #---------code which u wants to test--------\n",
    "    #except :\n",
    "        #--------what to do when error occur---------\n",
    "\n",
    "        \n",
    "# Try and Except Statements=>\n",
    "\n",
    "# Try and Except statement helps to deal with logical error. They can be used \n",
    "# when you are unsure about a code and you think that it may produce an error. \n",
    "# What Try an Except statement does is that it try a block of code and if it is\n",
    "# incorrect code, then the except block will get the code and it will get \n",
    "# executed."
   ]
  },
  {
   "cell_type": "markdown",
   "id": "05bff454",
   "metadata": {},
   "source": [
    "-----Detailed Explanation of Try Block-----"
   ]
  },
  {
   "cell_type": "raw",
   "id": "7c85cff5",
   "metadata": {},
   "source": [
    "● First, the try block is executed i.e. the code between try and except clause.\n",
    "\n",
    "    # If there is no exception, then only the try clause will run, except the\n",
    "    # clause is finished.\n",
    "\n",
    "    # If any exception or error occurs, the try clause will be skipped and except \n",
    "    # clause will run.\n",
    "\n",
    "# ● A try statement can have more than one except clause"
   ]
  },
  {
   "cell_type": "code",
   "execution_count": 3,
   "id": "12060b36",
   "metadata": {},
   "outputs": [
    {
     "name": "stdout",
     "output_type": "stream",
     "text": [
      "2 0\n",
      "error=> dividing by zero\n"
     ]
    }
   ],
   "source": [
    "#EXAMPLE-->\n",
    "a,b=[int(ele) for ele in input().split()]\n",
    "print(a,b)\n",
    "\n",
    "#If a and b both are valid code never reach except else do what in except\n",
    "try:\n",
    "   c=a/b\n",
    "except :\n",
    "    print(\"error=> dividing by zero\")\n",
    "else:\n",
    "    print(c)"
   ]
  },
  {
   "cell_type": "code",
   "execution_count": 7,
   "id": "2165b373",
   "metadata": {},
   "outputs": [
    {
     "name": "stdout",
     "output_type": "stream",
     "text": [
      "5 0\n",
      "5 0\n",
      "error=> dividing by zero\n"
     ]
    }
   ],
   "source": [
    "# We can catch more than 1 error also like-->\n",
    "a,b=[int(ele) for ele in input().split()]\n",
    "print(a,b)\n",
    "\n",
    "#If a and b both are valid code never reach except else do what in except\n",
    "try:\n",
    "   c=a/b\n",
    "   print(z) \n",
    "   #if b is zero than ZeroDivisionError will execute else NameError \n",
    "except ZeroDivisionError:\n",
    "    print(\"error=> dividing by zero\")\n",
    "except NameError:\n",
    "    print(\"Var no define\")"
   ]
  },
  {
   "cell_type": "code",
   "execution_count": 10,
   "id": "be4b2c4f",
   "metadata": {},
   "outputs": [
    {
     "name": "stdout",
     "output_type": "stream",
     "text": [
      "2 0\n",
      "2 0\n",
      "error=> dividing by zero\n",
      "Mai finally hu ->hamesha chalunga\n"
     ]
    }
   ],
   "source": [
    "#---------------------'finally' keyword----------------------------\n",
    "\n",
    "# If exception aye ya na aye 'finally' wala statement hamesha chalega\n",
    "a,b=[int(ele) for ele in input().split()]\n",
    "print(a,b)\n",
    "\n",
    "#If a and b both are valid code never rach except else do what in except\n",
    "try:\n",
    "   c=a/b\n",
    "except :\n",
    "    print(\"error=> dividing by zero\")\n",
    "else:\n",
    "    print(c)\n",
    "finally:\n",
    "    print(\"Mai finally hu ->hamesha chalunga\")"
   ]
  },
  {
   "cell_type": "raw",
   "id": "5e83d695",
   "metadata": {},
   "source": [
    "------------ 'raise' Keyword ------------"
   ]
  },
  {
   "cell_type": "code",
   "execution_count": 4,
   "id": "fa0c6d03",
   "metadata": {},
   "outputs": [
    {
     "ename": "Exception",
     "evalue": "Sorry only non -ve Nums are allowed",
     "output_type": "error",
     "traceback": [
      "\u001b[1;31m---------------------------------------------------------------------------\u001b[0m",
      "\u001b[1;31mException\u001b[0m                                 Traceback (most recent call last)",
      "\u001b[1;32m~\\AppData\\Local\\Temp/ipykernel_15392/637903048.py\u001b[0m in \u001b[0;36m<module>\u001b[1;34m\u001b[0m\n\u001b[0;32m      8\u001b[0m \u001b[1;33m\u001b[0m\u001b[0m\n\u001b[0;32m      9\u001b[0m \u001b[1;32mif\u001b[0m\u001b[1;33m(\u001b[0m\u001b[0mx\u001b[0m\u001b[1;33m<\u001b[0m\u001b[1;36m0\u001b[0m\u001b[1;33m)\u001b[0m\u001b[1;33m:\u001b[0m\u001b[1;33m\u001b[0m\u001b[1;33m\u001b[0m\u001b[0m\n\u001b[1;32m---> 10\u001b[1;33m     \u001b[1;32mraise\u001b[0m \u001b[0mException\u001b[0m\u001b[1;33m(\u001b[0m\u001b[1;34m\"Sorry only non -ve Nums are allowed\"\u001b[0m\u001b[1;33m)\u001b[0m\u001b[1;33m\u001b[0m\u001b[1;33m\u001b[0m\u001b[0m\n\u001b[0m\u001b[0;32m     11\u001b[0m \u001b[1;32melse\u001b[0m\u001b[1;33m:\u001b[0m\u001b[1;33m\u001b[0m\u001b[1;33m\u001b[0m\u001b[0m\n\u001b[0;32m     12\u001b[0m     \u001b[0mprint\u001b[0m\u001b[1;33m(\u001b[0m\u001b[0mx\u001b[0m\u001b[1;33m,\u001b[0m\u001b[1;34m\"is good\"\u001b[0m\u001b[1;33m)\u001b[0m\u001b[1;33m\u001b[0m\u001b[1;33m\u001b[0m\u001b[0m\n",
      "\u001b[1;31mException\u001b[0m: Sorry only non -ve Nums are allowed"
     ]
    }
   ],
   "source": [
    "# Raise keyword is used when you wish to raise an exception. If you feel that an\n",
    "# exception should occur in a part of the code, then you can raise an error.\n",
    "\n",
    "# If the exception would be occurring then, that code will be executed.\n",
    "\n",
    "x=int(input())\n",
    "\n",
    "\n",
    "if(x<0):\n",
    "    raise Exception(\"Sorry only non -ve Nums are allowed\")\n",
    "else:\n",
    "    print(x,\"is good\")\n",
    "    "
   ]
  },
  {
   "cell_type": "code",
   "execution_count": null,
   "id": "547b3f16",
   "metadata": {},
   "outputs": [],
   "source": []
  }
 ],
 "metadata": {
  "kernelspec": {
   "display_name": "base",
   "language": "python",
   "name": "python3"
  },
  "language_info": {
   "codemirror_mode": {
    "name": "ipython",
    "version": 3
   },
   "file_extension": ".py",
   "mimetype": "text/x-python",
   "name": "python",
   "nbconvert_exporter": "python",
   "pygments_lexer": "ipython3",
   "version": "3.9.7"
  },
  "vscode": {
   "interpreter": {
    "hash": "610a6f344c2137faf927ea819c63f6cee33a2c04455044b28099f39fe9722347"
   }
  }
 },
 "nbformat": 4,
 "nbformat_minor": 5
}
