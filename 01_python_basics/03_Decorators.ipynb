{
 "cells": [
  {
   "cell_type": "markdown",
   "id": "c4cd0521",
   "metadata": {},
   "source": [
    "---------Tricky Functions----------"
   ]
  },
  {
   "cell_type": "raw",
   "id": "95c096b1",
   "metadata": {},
   "source": []
  },
  {
   "cell_type": "raw",
   "id": "30ff3ae2",
   "metadata": {},
   "source": [
    "# In python we can pass function to a variable "
   ]
  },
  {
   "cell_type": "code",
   "execution_count": 2,
   "id": "f56911eb",
   "metadata": {},
   "outputs": [
    {
     "name": "stdout",
     "output_type": "stream",
     "text": [
      "Hellooooo!\n",
      "None\n"
     ]
    }
   ],
   "source": [
    "def say_hello():\n",
    "    print(\"Hellooooo!\")\n",
    "\n",
    "greet=say_hello()\n",
    "print(greet) #none beacuse it is not returning anything."
   ]
  },
  {
   "cell_type": "code",
   "execution_count": 6,
   "id": "d583a640",
   "metadata": {},
   "outputs": [
    {
     "name": "stdout",
     "output_type": "stream",
     "text": [
      "Hellooooo!\n",
      "<function say_hello at 0x00000141633EE3A0> \n",
      "\n",
      " None\n"
     ]
    }
   ],
   "source": [
    "# If I save refrence of a func in a variable then delete it we can still use that refrence to acess that\n",
    "greet=say_hello\n",
    "del say_hello\n",
    "print(greet,'\\n\\n',greet())#greet is ref so it will print address and greet() will act as a function"
   ]
  },
  {
   "cell_type": "code",
   "execution_count": 7,
   "id": "d2cbdef4",
   "metadata": {},
   "outputs": [
    {
     "ename": "NameError",
     "evalue": "name 'say_hello' is not defined",
     "output_type": "error",
     "traceback": [
      "\u001b[1;31m---------------------------------------------------------------------------\u001b[0m",
      "\u001b[1;31mNameError\u001b[0m                                 Traceback (most recent call last)",
      "\u001b[1;32m~\\AppData\\Local\\Temp/ipykernel_17004/3157800109.py\u001b[0m in \u001b[0;36m<module>\u001b[1;34m\u001b[0m\n\u001b[0;32m      1\u001b[0m \u001b[1;31m# Now if I try to access say_hello will get an error\u001b[0m\u001b[1;33m\u001b[0m\u001b[1;33m\u001b[0m\u001b[0m\n\u001b[1;32m----> 2\u001b[1;33m \u001b[0mprint\u001b[0m\u001b[1;33m(\u001b[0m\u001b[0msay_hello\u001b[0m\u001b[1;33m)\u001b[0m \u001b[1;31m#as this refrence is deleted for ever\u001b[0m\u001b[1;33m\u001b[0m\u001b[1;33m\u001b[0m\u001b[0m\n\u001b[0m",
      "\u001b[1;31mNameError\u001b[0m: name 'say_hello' is not defined"
     ]
    }
   ],
   "source": [
    "# Now if I try to access say_hello will get an error\n",
    "print(say_hello) #as this refrence is deleted for ever"
   ]
  },
  {
   "cell_type": "raw",
   "id": "f9972cb6",
   "metadata": {},
   "source": [
    "# In python we can pass a function as argument also"
   ]
  },
  {
   "cell_type": "code",
   "execution_count": 8,
   "id": "1b06fc19",
   "metadata": {},
   "outputs": [
    {
     "name": "stdout",
     "output_type": "stream",
     "text": [
      "Greeting from greet\n",
      "None\n"
     ]
    }
   ],
   "source": [
    "def say_hello(func):\n",
    "    func()\n",
    "\n",
    "def greet():\n",
    "    print(\"Greeting from greet\")\n",
    "\n",
    "res=say_hello(greet)\n",
    "print(res)"
   ]
  },
  {
   "cell_type": "markdown",
   "id": "373ba14c",
   "metadata": {},
   "source": [
    "----------HIGHER ORDER FUNCTIONS IN PYTHON-----------"
   ]
  },
  {
   "cell_type": "raw",
   "id": "bd1b9c2c",
   "metadata": {},
   "source": [
    "A function is called Higher Order Function if it contains other functions as a parameter or returns a function as an output i.e, the functions that operate with another function are known as Higher order Functions. It is worth knowing that this higher order function is applicable for functions and methods as well that takes functions as a parameter or returns a function as a result. Python too supports the concepts of higher order functions.\n",
    "\n",
    "Properties of higher-order functions:\n",
    "\n",
    "1. A function is an instance of the Object type.\n",
    "2. You can store the function in a variable.\n",
    "3. You can pass the function as a parameter to another function.\n",
    "4. You can return the function from a function.\n",
    "5. You can store them in data structures such as hash tables, lists, …"
   ]
  },
  {
   "cell_type": "code",
   "execution_count": 9,
   "id": "2e7d3d8f",
   "metadata": {},
   "outputs": [
    {
     "name": "stdout",
     "output_type": "stream",
     "text": [
      "In shout:\tHI, I AM CREATED BY A FUNCTION     PASSED AS AN ARGUMENT.\n",
      "In whisper:\thi, i am created by a function     passed as an argument.\n"
     ]
    }
   ],
   "source": [
    "def shout(text): \n",
    "    print(\"In shout:\\t\",end=\"\")\n",
    "    return text.upper() \n",
    "    \n",
    "def whisper(text): \n",
    "    print(\"In whisper:\\t\",end=\"\")\n",
    "    return text.lower() \n",
    "    \n",
    "def greet(func): \n",
    "    # storing the function in a variable \n",
    "    greeting = func(\"Hi, I am created by a function \\\n",
    "    passed as an argument.\") \n",
    "    print(greeting)  \n",
    "    \n",
    "greet(shout) \n",
    "greet(whisper)"
   ]
  },
  {
   "cell_type": "markdown",
   "id": "3f1b726f",
   "metadata": {},
   "source": [
    "---------DECORATORS----------"
   ]
  },
  {
   "cell_type": "raw",
   "id": "17cccad3",
   "metadata": {},
   "source": [
    "Decorators are a very powerful and useful tool in Python since it allows programmers to modify the behaviour of function or class. Decorators allow us to wrap another function in order to extend the behaviour of the wrapped function, without permanently modifying it.\n",
    "\n",
    "And a decorator in python is only possible because of the 2 functionalities of function we discuss above.\n",
    "\n",
    "Python decorators allow you to change the behavior of a function without modifying the function itself.\n",
    "\n",
    "\n",
    "\n",
    "To learn More->https://www.freecodecamp.org/news/python-decorators-explained-with-examples/\n",
    "\n",
    "\n",
    "Syntax->\n",
    "    def decorator_func_name(function_argument):\n",
    "        \n",
    "        def wrapper_function(argument):\n",
    "            function(arguments)\n",
    "            \n",
    "        return wrapper_function"
   ]
  },
  {
   "cell_type": "code",
   "execution_count": 26,
   "id": "df2b609c",
   "metadata": {},
   "outputs": [
    {
     "name": "stdout",
     "output_type": "stream",
     "text": [
      "without Decorator:\t\n",
      "Hello\n",
      "\n",
      "\n",
      "with Decorator:\t\n",
      "******************\n",
      "Hello\n",
      "******************\n"
     ]
    }
   ],
   "source": [
    "def my_decorator(func):\n",
    "    \n",
    "    #Specify all args of func in both wrapper funct and func()\n",
    "    def print_stars():\n",
    "        print(\"******************\")\n",
    "        func();\n",
    "        print(\"******************\")\n",
    "        \n",
    "    return print_stars\n",
    "\n",
    "\n",
    "\n",
    "def greet():\n",
    "    print(f\"Hello\")\n",
    "    \n",
    "# Without Decorator\n",
    "print(\"without Decorator:\\t\")\n",
    "greet()\n",
    "\n",
    "#With decorator\n",
    "print(\"\\n\\nwith Decorator:\\t\")\n",
    "\n",
    "@my_decorator\n",
    "def greet():\n",
    "    print(f\"Hello\")\n",
    "\n",
    "greet()"
   ]
  },
  {
   "cell_type": "code",
   "execution_count": 27,
   "id": "b39220cb",
   "metadata": {},
   "outputs": [
    {
     "name": "stdout",
     "output_type": "stream",
     "text": [
      "******************\n",
      "Hello\n",
      "******************\n",
      "<function my_decorator.<locals>.print_stars at 0x0000014163CABD30>\n"
     ]
    }
   ],
   "source": [
    "#Inside Decorator is just Doing this->\n",
    "a=my_decorator(greet())\n",
    "print(a)\n",
    "\n",
    "# Decorators make thats confusing wrapping thing simple for programmers"
   ]
  },
  {
   "cell_type": "raw",
   "id": "c62aa0fb",
   "metadata": {},
   "source": [
    "How to work with decorator when our function also accepts a arguments"
   ]
  },
  {
   "cell_type": "code",
   "execution_count": 39,
   "id": "48e27ded",
   "metadata": {},
   "outputs": [
    {
     "name": "stdout",
     "output_type": "stream",
     "text": [
      "******************\n",
      "Hello Deepanshu :)\n",
      "******************\n"
     ]
    }
   ],
   "source": [
    "#One way is to pass that argument in both wrapper function and function u call inside wraper\n",
    "def my_decorator(func):\n",
    "    \n",
    "    #Specify all args of func in both wrapper funct and func()\n",
    "    def print_stars(name,emoji):\n",
    "        print(\"******************\")\n",
    "        func(name,emoji);\n",
    "        print(\"******************\")\n",
    "        \n",
    "    return print_stars\n",
    "\n",
    "\n",
    "@my_decorator\n",
    "def greet(name,emoji):\n",
    "    print(f\"Hello {name} {emoji}\")\n",
    "\n",
    "greet(\"Deepanshu\",\":)\")"
   ]
  },
  {
   "cell_type": "code",
   "execution_count": 8,
   "id": "81232009",
   "metadata": {},
   "outputs": [
    {
     "name": "stdout",
     "output_type": "stream",
     "text": [
      "******************\n",
      "Hello Deepanshu :)\n",
      "******************\n",
      "******************\n",
      "Hello Deepanshu :)\n",
      "******************\n",
      "******************\n",
      "Hello Deepanshu :>\n",
      "******************\n"
     ]
    }
   ],
   "source": [
    "# Now Since We may want to use the decorator for any no of arguments function use *args and **kwargs\n",
    "def my_decorator(func):\n",
    "    \n",
    "    #Specify all args of func in both wrapper funct and func()\n",
    "    def print_stars(*args,**kwargs):\n",
    "        print(\"******************\")\n",
    "        func(*args,**kwargs);\n",
    "        print(\"******************\")\n",
    "        \n",
    "    return print_stars\n",
    "\n",
    "\n",
    "@my_decorator\n",
    "def greet(name,emoji=\":>\"):\n",
    "    print(f\"Hello {name} {emoji}\")\n",
    "\n",
    "greet(\"Deepanshu\",\":)\")\n",
    "greet(emoji=\":)\",name=\"Deepanshu\")\n",
    "greet(\"Deepanshu\")"
   ]
  },
  {
   "cell_type": "raw",
   "id": "84a1ea83",
   "metadata": {},
   "source": [
    "But,Why Decorators!!\n",
    "\n",
    "To Demonstate this I am making a @performance decorator which tell us how much time it req to run a funtion...."
   ]
  },
  {
   "cell_type": "code",
   "execution_count": 16,
   "id": "d3086d77",
   "metadata": {},
   "outputs": [],
   "source": [
    "import time\n",
    "def performance(func):\n",
    "    def manipulate_performance(*args):\n",
    "        start_time=time.time()\n",
    "        func(*args)\n",
    "        stop_time=time.time()\n",
    "        print(f\"\\n\\n{func.__name__} take {stop_time-start_time} sec\")\n",
    "    return manipulate_performance"
   ]
  },
  {
   "cell_type": "code",
   "execution_count": 17,
   "id": "18d58d0f",
   "metadata": {},
   "outputs": [
    {
     "name": "stdout",
     "output_type": "stream",
     "text": [
      "0 1 2 3 4 5 6 7 8 9 10 11 12 13 14 15 16 17 18 19 20 21 22 23 24 25 26 27 28 29 30 31 32 33 34 35 36 37 38 39 40 41 42 43 44 45 46 47 48 49 50 51 52 53 54 55 56 57 58 59 60 61 62 63 64 65 66 67 68 69 70 71 72 73 74 75 76 77 78 79 80 81 82 83 84 85 86 87 88 89 90 91 92 93 94 95 96 97 98 99 100 \n",
      "\n",
      "print_till take 0.00398707389831543 sec\n"
     ]
    }
   ],
   "source": [
    "@performance\n",
    "def print_till(n):\n",
    "    for num in range(n+1):\n",
    "        print(num,end=' ')\n",
    "\n",
    "print_till(100)"
   ]
  },
  {
   "cell_type": "raw",
   "id": "5954b172",
   "metadata": {},
   "source": [
    "Now Not just print_till() I can use the performance deorator with any peice of code that I want to...\n",
    "\n",
    "\n",
    "Enjoy...:)"
   ]
  }
 ],
 "metadata": {
  "kernelspec": {
   "display_name": "base",
   "language": "python",
   "name": "python3"
  },
  "language_info": {
   "codemirror_mode": {
    "name": "ipython",
    "version": 3
   },
   "file_extension": ".py",
   "mimetype": "text/x-python",
   "name": "python",
   "nbconvert_exporter": "python",
   "pygments_lexer": "ipython3",
   "version": "3.9.7"
  },
  "vscode": {
   "interpreter": {
    "hash": "610a6f344c2137faf927ea819c63f6cee33a2c04455044b28099f39fe9722347"
   }
  }
 },
 "nbformat": 4,
 "nbformat_minor": 5
}
