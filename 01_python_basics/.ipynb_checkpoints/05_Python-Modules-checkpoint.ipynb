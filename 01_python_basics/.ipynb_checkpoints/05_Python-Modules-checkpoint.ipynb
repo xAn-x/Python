{
 "cells": [
  {
   "cell_type": "markdown",
   "id": "6e3f90bd",
   "metadata": {},
   "source": [
    "------MODULES-------"
   ]
  },
  {
   "cell_type": "raw",
   "id": "7ed5f2ff",
   "metadata": {},
   "source": [
    "Modules are simply files with the “. py” extension containing Python code that can be imported inside another Python Program. \n",
    "\n",
    "In simple terms, we can consider a module to be the same as a code library or a file that contains a set of functions that you want to include in your application."
   ]
  },
  {
   "cell_type": "code",
   "execution_count": 1,
   "id": "5c62c3d7",
   "metadata": {},
   "outputs": [],
   "source": [
    "# To use any module we first need to import it in our prog->\n",
    "# Syntax:-import module1_name,module2_name\n",
    "\n",
    "import time\n",
    "\n",
    "\n",
    "#If from a file we only need some particular functionality\n",
    "#Syntax;- from module import functionality_name\n",
    "\n",
    "from time import time"
   ]
  },
  {
   "cell_type": "markdown",
   "id": "63e7d229",
   "metadata": {},
   "source": [
    "-------PACKAGES-----"
   ]
  },
  {
   "cell_type": "raw",
   "id": "0d57f567",
   "metadata": {},
   "source": [
    "Packages are nothing but if we place all our modules inside a folder that is Package."
   ]
  },
  {
   "cell_type": "code",
   "execution_count": 8,
   "id": "97438d5f",
   "metadata": {},
   "outputs": [],
   "source": [
    "# To use any Module inside a Package we need to do like->\n",
    "# Syntax- import packageName.moduleName"
   ]
  },
  {
   "cell_type": "raw",
   "id": "e598bf15",
   "metadata": {},
   "source": [
    "__name__ & __main__"
   ]
  },
  {
   "cell_type": "raw",
   "id": "a18d68ca",
   "metadata": {},
   "source": [
    "__name__ return the name of module.\n",
    "\n",
    "__main__ return the name of currently running file. __main__ is special name allocated to file viz currently running\n",
    "\n",
    "\n",
    "\n",
    "\n",
    "if __name__ == __main__ ->to chk weather the name of module is same as currently running module\n",
    "\n",
    "Above condn is very IMP as through this we can say that only exceute certain functionality if module is same as the one viz running right now"
   ]
  },
  {
   "cell_type": "markdown",
   "id": "e417827e",
   "metadata": {},
   "source": [
    "-------Inbuilt-Modules----------"
   ]
  },
  {
   "cell_type": "code",
   "execution_count": 9,
   "id": "a391607c",
   "metadata": {},
   "outputs": [],
   "source": [
    "# We have no of inbuilt python packages which help us achiving sevral task and make our life easier"
   ]
  },
  {
   "cell_type": "code",
   "execution_count": 22,
   "id": "88030172",
   "metadata": {},
   "outputs": [
    {
     "name": "stdout",
     "output_type": "stream",
     "text": [
      "0.5775855681628131\n",
      "2\n",
      "4\n",
      "[3, 4, 2, 5, 1]\n"
     ]
    }
   ],
   "source": [
    "# random\n",
    "import random\n",
    "\n",
    "print(random.random()) #Return a random no b/2 1 & 0\n",
    "print(random.randint(1,10)) #return a random integer in passed range\n",
    "print(random.choice([1,2,5,4,7,80,-1])) #return any random num frompassed choices\n",
    "\n",
    "lst=[1,2,3,4,5]\n",
    "random.shuffle(lst) #shuffle ele in past data-structure\n",
    "print(lst)"
   ]
  },
  {
   "cell_type": "code",
   "execution_count": 1,
   "id": "3c45dd68",
   "metadata": {},
   "outputs": [],
   "source": [
    "# We can install new modules using pip -> pip install module_name ==version(ver not neccessary)\n",
    "\n",
    "#If need help in some task & can't able to find inbuilt module for it check below site\n",
    "    # -> https://pypi.org/"
   ]
  },
  {
   "cell_type": "markdown",
   "id": "9332c173",
   "metadata": {},
   "source": [
    "------Collections Package-------"
   ]
  },
  {
   "cell_type": "raw",
   "id": "0ba95657",
   "metadata": {},
   "source": [
    "The collection Module in Python provides different types of containers. A Container is an object that is used to store different objects and provide a way to access the contained objects and iterate over them.\n",
    "\n",
    "collection package is a very imp package that  provide many more useful data-types like \n",
    "\n",
    "#- orderedDict\n",
    "#- defaultDict\n",
    "#- DeQue\n",
    "#- userList\n",
    "#- Counter.. etc\n",
    "\n",
    "\n",
    "To read More->\n",
    "https://www.geeksforgeeks.org/python-collections-module/\n",
    "                      or\n",
    "https://docs.python.org/3/library/collections.html"
   ]
  },
  {
   "cell_type": "markdown",
   "id": "ae807869",
   "metadata": {},
   "source": [
    "-----Counter Module------"
   ]
  },
  {
   "cell_type": "code",
   "execution_count": 5,
   "id": "d599bb19",
   "metadata": {},
   "outputs": [
    {
     "name": "stdout",
     "output_type": "stream",
     "text": [
      "Counter({1: 2, 2: 2, 3: 1, -1: 1})\n",
      "Counter({'a': 4, 'c': 3, 'b': 2, 'd': 0})\n",
      "[('a', 4), ('c', 3)]\n"
     ]
    }
   ],
   "source": [
    "from collections import Counter\n",
    "\n",
    "li=[1,2,3,1,2,-1]\n",
    "print(Counter(li)) #Return a dict of type -> {ele:frequency} \n",
    "\n",
    "\n",
    "# We can create our own list also\n",
    "c=Counter(a=4,b=2,c=3,d=0)\n",
    "print(c)\n"
   ]
  },
  {
   "cell_type": "code",
   "execution_count": 6,
   "id": "3537cfe6",
   "metadata": {},
   "outputs": [
    {
     "name": "stdout",
     "output_type": "stream",
     "text": [
      "[('a', 4), ('c', 3)]\n"
     ]
    }
   ],
   "source": [
    "# most_common([n])->\n",
    "\n",
    "# Return a list of the n most common elements and their counts from the most common to the least. If n is omitted or None, most_common() returns all elements in the counter. Elements with equal counts are ordered in the order first encountered:\n",
    "\n",
    "print(c.most_common(2))"
   ]
  },
  {
   "cell_type": "markdown",
   "id": "d92ecdc8",
   "metadata": {},
   "source": [
    "----- defaultdict module ------"
   ]
  },
  {
   "cell_type": "code",
   "execution_count": 12,
   "id": "cad8f3e9",
   "metadata": {},
   "outputs": [
    {
     "name": "stdout",
     "output_type": "stream",
     "text": [
      "{'a': 2, 'b': 3, 'z': 0}\n",
      "does not exist\n"
     ]
    }
   ],
   "source": [
    "from collections import defaultdict\n",
    "\n",
    "dct={'a':2,'b':3,'z':0}\n",
    "print(dct)\n",
    "\n",
    "# But if in normal dict I try to access val that is not +nt will get an error\n",
    "# print(dct['c'])\n",
    "\n",
    "# To compenstate this we can use get()->\n",
    "print(dct.get('c',\"does not exist\"))"
   ]
  },
  {
   "cell_type": "raw",
   "id": "33cd68ba",
   "metadata": {},
   "source": [
    "Defaultdict is a container like dictionaries present in the module collections. Defaultdict is a sub-class of the dictionary class that returns a dictionary-like object. \n",
    "\n",
    "The functionality of both dictionaries and defaultdict are almost same except for the fact that defaultdict never raises a KeyError. It provides a default value for the key that does not exists.\n",
    "\n",
    "Syntax: defaultdict(default_factory)\n",
    "\n",
    "default_factory: A function returning the default value for the dictionary defined. If this argument is absent then the dictionary raises a KeyError. "
   ]
  },
  {
   "cell_type": "code",
   "execution_count": 32,
   "id": "6f06dda6",
   "metadata": {},
   "outputs": [
    {
     "name": "stdout",
     "output_type": "stream",
     "text": [
      "0\n",
      "Not Present\n"
     ]
    }
   ],
   "source": [
    "dct=defaultdict(int,dct) #if i try accessing an absent val return default val of int\n",
    "print(dct['c'])\n",
    "\n",
    "\n",
    "# Not just  premitive we can pass our own functionality as lamda expression/function\n",
    "def def_value():\n",
    "    return \"Not Present\"\n",
    "\n",
    "dct={'a':2,'b':3,'z':0}\n",
    "dct2=defaultdict(def_value,dct)\n",
    "\n",
    "print(dct2['c'])\n",
    "\n",
    "# To learn more-> https://www.geeksforgeeks.org/defaultdict-in-python/"
   ]
  },
  {
   "cell_type": "markdown",
   "id": "56babe1f",
   "metadata": {},
   "source": [
    "-------orderedDict--------"
   ]
  },
  {
   "cell_type": "raw",
   "id": "ff38814c",
   "metadata": {},
   "source": [
    "An OrderedDict is a dictionary subclass that remembers the order that keys were first inserted. The only difference between dict() and OrderedDict() is that:\n",
    "\n",
    "OrderedDict preserves the order in which the keys are inserted. A regular dict doesn’t track the insertion order and iterating it gives the values in an arbitrary order. By contrast, the order the items are inserted is remembered by OrderedDict."
   ]
  },
  {
   "cell_type": "code",
   "execution_count": 40,
   "id": "ad4b8786",
   "metadata": {},
   "outputs": [
    {
     "name": "stdout",
     "output_type": "stream",
     "text": [
      "dict1==dict2:  True\n",
      "dict1==dict3:  False\n",
      "\n",
      "OrderedDict([('a', 1), ('b', 2)])\n",
      "OrderedDict([('a', 1), ('b', 2)])\n",
      "OrderedDict([('b', 2), ('a', 1)])\n",
      "\n",
      "OrderedDict([('b', 2)])\n"
     ]
    }
   ],
   "source": [
    "from collections import OrderedDict\n",
    "\n",
    "dict1=OrderedDict()\n",
    "dict1['a']=1\n",
    "dict1['b']=2\n",
    "\n",
    "dict2=OrderedDict()\n",
    "dict2['a']=1\n",
    "dict2['b']=2\n",
    "\n",
    "dict3=OrderedDict()\n",
    "dict3['b']=2\n",
    "dict3['a']=1\n",
    "\n",
    "\n",
    "print(\"dict1==dict2: \",dict1==dict2)\n",
    "print(\"dict1==dict3: \",dict1==dict3)\n",
    "\n",
    "# dict1==dict2 but dict2!=dict3 as order of insertion iss diffrent\n",
    "print(f\"\\n{dict1}\\n{dict2}\\n{dict3}\")\n",
    "\n",
    "# To delete any item just use pop(key)\n",
    "dict1.pop('a')\n",
    "print(f\"\\n{dict1}\")"
   ]
  },
  {
   "cell_type": "markdown",
   "id": "826c8f2c",
   "metadata": {},
   "source": [
    "-------- Arrays ---------"
   ]
  },
  {
   "cell_type": "raw",
   "id": "1e9e66d4",
   "metadata": {},
   "source": [
    "The array module defines an object type that can compactly represent an array of some basic values as characters, integers, floating-point numbers.\n",
    "\n",
    "Arrays are sequence types and behave similarly as lists, except that the type of objects stored in them is constrained\n",
    "\n",
    "Array in Python can be created by importing array module. array(data_type, value_list) is used to create an array with data type and value list specified in its arguments. "
   ]
  },
  {
   "cell_type": "code",
   "execution_count": 7,
   "id": "17a3e704",
   "metadata": {},
   "outputs": [
    {
     "name": "stdout",
     "output_type": "stream",
     "text": [
      "array('i', [1, 2, 3, 4])\n",
      "1 4\n",
      "array('i', [1, 2, 3, 4, -1])\n",
      "array('i', [1, 2, 500, 3, 4, -1])\n",
      "array('i', [1, 2, 3, 4, -1])\n",
      "array('i', [1, 2, 3, 4])\n",
      "array('i', [2, 3, 4])\n"
     ]
    }
   ],
   "source": [
    "from array import array\n",
    "\n",
    "a=array('i',[1,2,3,4])\n",
    "print(a)\n",
    "\n",
    "# Accessing ele in array are same as in list\n",
    "print(a[0],a[-1])\n",
    "\n",
    "# Inserting ele in arrays\n",
    "a.append(-1)\n",
    "print(a)\n",
    "\n",
    "a.insert(2,500) #insert(index,value)\n",
    "print(a)\n",
    "\n",
    "\n",
    "#Removing ele from array\n",
    "a.remove(500) #remove(ele)->if ele is not +nt throws an error\n",
    "print(a)\n",
    "\n",
    "a.pop() #pop()->remove ele from very end\n",
    "print(a)\n",
    "\n",
    "a.pop(0) #pop(idx)->remove ele from passed index\n",
    "print(a)"
   ]
  },
  {
   "cell_type": "code",
   "execution_count": 8,
   "id": "9a22a542",
   "metadata": {},
   "outputs": [],
   "source": [
    "# Why Use arrays if we have list->"
   ]
  },
  {
   "cell_type": "raw",
   "id": "c97819a0",
   "metadata": {},
   "source": [
    "Arrays are much faster then list as the are statically typed\n",
    "Arrays are much more efficient in terms of space and time compared to list\n",
    "Support all functionalities of list + more"
   ]
  },
  {
   "cell_type": "code",
   "execution_count": null,
   "id": "9c7600b6",
   "metadata": {},
   "outputs": [],
   "source": []
  }
 ],
 "metadata": {
  "kernelspec": {
   "display_name": "Python 3 (ipykernel)",
   "language": "python",
   "name": "python3"
  },
  "language_info": {
   "codemirror_mode": {
    "name": "ipython",
    "version": 3
   },
   "file_extension": ".py",
   "mimetype": "text/x-python",
   "name": "python",
   "nbconvert_exporter": "python",
   "pygments_lexer": "ipython3",
   "version": "3.9.7"
  }
 },
 "nbformat": 4,
 "nbformat_minor": 5
}
