{
 "cells": [
  {
   "cell_type": "code",
   "execution_count": null,
   "id": "920f9670",
   "metadata": {},
   "outputs": [],
   "source": [
    "# ---------GENERATORS----------"
   ]
  },
  {
   "cell_type": "raw",
   "id": "6cc92e9d",
   "metadata": {},
   "source": [
    "Python Generators are the functions that return the traversal object and used to create iterators. It traverses the entire items at once.\n",
    "\n",
    "The generator can also be an expression in which syntax is similar to the list comprehension in Python.\n",
    "\n",
    "Python provides a generator to create your own iterator function. A generator is a special type of function which does not return a single value, instead, it returns an iterator object with a sequence of values.\n",
    "\n",
    "In a generator function, a yield statement is used rather than a return statement.\n",
    "\n",
    "An example of Generator is->range()"
   ]
  },
  {
   "cell_type": "code",
   "execution_count": null,
   "id": "47609698",
   "metadata": {},
   "outputs": [],
   "source": [
    "# Diffrence b/w iterable , iterator and generator"
   ]
  },
  {
   "cell_type": "raw",
   "id": "6e233f81",
   "metadata": {},
   "source": [
    "# ITERABLE\n",
    "Something which can be iterated/traversed is called an iterable\n",
    "\n",
    "# ITERATOR\n",
    "\n",
    "An iterator is an object which contains a countable number of values and it is used to iterate over iterable objects like list, tuples, sets, etc.\n",
    "\n",
    "Iterators are implemented using a class and a local variable for iterating is not required here, It follows lazy evaluation where the evaluation of the expression will be on hold and stored in the memory until the item is called specifically which helps us to avoid repeated evaluation.\n",
    "\n",
    "As lazy evaluation is implemented, it requires only 1 memory location to process the value and when we are using a large dataset then, wastage of RAM space will be reduced the need to load the entire dataset at the same time will not be there.\n",
    "\n",
    "iter() keyword is used to create an iterator containing an iterable object.\n",
    "next() keyword is used to call the next element in the iterable object.\n",
    "After the iterable object is completed, to use them again reassign them to the same object.\n",
    "\n",
    "\n",
    "\n",
    "\n",
    "# GENERATOR\n",
    "\n",
    "It is another way of creating iterators in a simple way where it uses the keyword “yield” instead of returning it in a defined function. Generators are implemented using a function.\n",
    "\n",
    "Just as iterators, generators also follow lazy evaluation. Here, the yield function returns the data without affecting or exiting the function.\n",
    "\n",
    "It will return a sequence of data in an iterable format where we need to iterate over the sequence to use the data as they won’t store the entire sequence in the memory."
   ]
  },
  {
   "cell_type": "code",
   "execution_count": 5,
   "id": "e043606a",
   "metadata": {},
   "outputs": [
    {
     "name": "stdout",
     "output_type": "stream",
     "text": [
      "0 1 2 3 4 5 6 7 8 9 "
     ]
    }
   ],
   "source": [
    "# Making own generator\n",
    "def generator_func(num):\n",
    "    for i in range(num):\n",
    "        yield i # This mean we get i and function wait for the next() call in ordr to generate new i\n",
    "        \n",
    "for item in generator_func(10):\n",
    "    print(item,end=' ') # So here we we first get i then i+1 then i+2...so we always use 1 var and update it's value when call it again so this is memory efficient and    "
   ]
  },
  {
   "cell_type": "code",
   "execution_count": 13,
   "id": "029bbd80",
   "metadata": {},
   "outputs": [
    {
     "name": "stdout",
     "output_type": "stream",
     "text": [
      "0 1 2 3 4 "
     ]
    }
   ],
   "source": [
    " # Inside the for each loop what really happening is\n",
    "g=generator_func(10)\n",
    "print(next(g),end=' ')\n",
    "print(next(g),end=' ')\n",
    "print(next(g),end=' ')\n",
    "print(next(g),end=' ')\n",
    "print(next(g),end=' ')\n",
    "\n",
    "# The  next func give us the currently yield value and update the counter for the next val"
   ]
  },
  {
   "cell_type": "markdown",
   "id": "c4076870",
   "metadata": {},
   "source": [
    "How generator works underhood"
   ]
  },
  {
   "cell_type": "code",
   "execution_count": 16,
   "id": "5daf6a69",
   "metadata": {},
   "outputs": [
    {
     "name": "stdout",
     "output_type": "stream",
     "text": [
      "1->2->3->4->9->10->Done\n"
     ]
    }
   ],
   "source": [
    "# Creating own for loop->\n",
    "def my_for(iterable_obj):\n",
    "    iterator=iter(iterable_obj) #iter() func make us use next() on iterable \n",
    "    \n",
    "    while True:\n",
    "        try:\n",
    "            print(next(iterator),end='->')\n",
    "        except StopIteration:\n",
    "            print(\"Done\")\n",
    "            break\n",
    "\n",
    "my_for([1,2,3,4,9,10])"
   ]
  },
  {
   "cell_type": "code",
   "execution_count": 6,
   "id": "7fa2acfc",
   "metadata": {},
   "outputs": [
    {
     "name": "stdout",
     "output_type": "stream",
     "text": [
      "10 12 14 16 18 "
     ]
    }
   ],
   "source": [
    "# Creating own range()->\n",
    "class myRange:\n",
    "    current=0\n",
    "    \n",
    "    def __init__(self,start,end,step=1):\n",
    "        self.start = start\n",
    "        self.end = end\n",
    "        self.step = step\n",
    "        myRange.current=start\n",
    "        \n",
    "    \n",
    "    def __iter__(self): #This func help us iterating our objects => iter()\n",
    "        return self\n",
    "    \n",
    "    \n",
    "    def __next__(self): #To tell generator how to fetch the next val\n",
    "        if(myRange.current<self.end):\n",
    "            num=myRange.current\n",
    "            myRange.current+=self.step\n",
    "            return num\n",
    "        raise StopIteration #If I reach the very end then StopIteration\n",
    "        \n",
    "        \n",
    "r=myRange(10,20,2)\n",
    "for i in r:\n",
    "    print(i,end=' ')"
   ]
  },
  {
   "cell_type": "code",
   "execution_count": 20,
   "id": "6ab531d3",
   "metadata": {},
   "outputs": [
    {
     "name": "stdout",
     "output_type": "stream",
     "text": [
      "0 1 1 2 3 "
     ]
    }
   ],
   "source": [
    "# Print 1st n fibonacci numbers->\n",
    "def fib_generator(n):\n",
    "        prv,curr=0,1\n",
    "        for i in range(n):\n",
    "            yield prv\n",
    "            temp=curr\n",
    "            curr=prv+curr\n",
    "            prv=temp\n",
    "        \n",
    "        \n",
    "for fib in fib_generator(5):\n",
    "    print(fib,end=' ')"
   ]
  },
  {
   "cell_type": "code",
   "execution_count": null,
   "id": "e1ba0c66",
   "metadata": {},
   "outputs": [],
   "source": []
  }
 ],
 "metadata": {
  "kernelspec": {
   "display_name": "Python 3 (ipykernel)",
   "language": "python",
   "name": "python3"
  },
  "language_info": {
   "codemirror_mode": {
    "name": "ipython",
    "version": 3
   },
   "file_extension": ".py",
   "mimetype": "text/x-python",
   "name": "python",
   "nbconvert_exporter": "python",
   "pygments_lexer": "ipython3",
   "version": "3.9.7"
  }
 },
 "nbformat": 4,
 "nbformat_minor": 5
}
