{
 "cells": [
  {
   "cell_type": "raw",
   "id": "2dc4051b",
   "metadata": {},
   "source": [
    "# There are many errors occur in python like->\n",
    "    # ZeroDivisionError->division by zero\n",
    "    # NameError->If using some var/method viz no define in +nt scope\n",
    "    # etc...\n",
    "\n",
    "# Now these error can break our code so its imp to catch them and handle them\n",
    "\n",
    "# In python we can use-->\n",
    "    # try:\n",
    "        #---------code which u wants to test--------\n",
    "    #except :\n",
    "        #--------what to do when error occur---------\n",
    "\n",
    "        \n",
    "# Try and Except Statements=>\n",
    "\n",
    "# Try and Except statement helps to deal with logical error. They can be used \n",
    "# when you are unsure about a code and you think that it may produce an error. \n",
    "# What Try an Except statement does is that it try a block of code and if it is\n",
    "# incorrect code, then the except block will get the code and it will get \n",
    "# executed."
   ]
  },
  {
   "cell_type": "markdown",
   "id": "05bff454",
   "metadata": {},
   "source": [
    "-----Detailed Explanation of Try Block-----"
   ]
  },
  {
   "cell_type": "raw",
   "id": "7c85cff5",
   "metadata": {},
   "source": [
    "● First, the try block is executed i.e. the code between try and except clause.\n",
    "\n",
    "    # If there is no exception, then only the try clause will run, except the\n",
    "    # clause is finished.\n",
    "\n",
    "    # If any exception or error occurs, the try clause will be skipped and except \n",
    "    # clause will run.\n",
    "\n",
    "# ● A try statement can have more than one except clause"
   ]
  },
  {
   "cell_type": "code",
   "execution_count": 2,
   "id": "12060b36",
   "metadata": {},
   "outputs": [
    {
     "name": "stdout",
     "output_type": "stream",
     "text": [
      "2 0\n",
      "2 0\n",
      "error=> dividing by zero\n"
     ]
    }
   ],
   "source": [
    "#EXAMPLE-->\n",
    "a,b=[int(ele) for ele in input().split()]\n",
    "print(a,b)\n",
    "\n",
    "#If a and b both are valid code never reach except else do what in except\n",
    "try:\n",
    "   c=a/b\n",
    "except :\n",
    "    print(\"error=> dividing by zero\")\n",
    "else:\n",
    "    print(c)"
   ]
  },
  {
   "cell_type": "code",
   "execution_count": 7,
   "id": "2165b373",
   "metadata": {},
   "outputs": [
    {
     "name": "stdout",
     "output_type": "stream",
     "text": [
      "5 0\n",
      "5 0\n",
      "error=> dividing by zero\n"
     ]
    }
   ],
   "source": [
    "# We can catch more than 1 error also like-->\n",
    "a,b=[int(ele) for ele in input().split()]\n",
    "print(a,b)\n",
    "\n",
    "#If a and b both are valid code never reach except else do what in except\n",
    "try:\n",
    "   c=a/b\n",
    "   print(z) \n",
    "   #if b is zero than ZeroDivisionError will execute else NameError \n",
    "except ZeroDivisionError:\n",
    "    print(\"error=> dividing by zero\")\n",
    "except NameError:\n",
    "    print(\"Var no define\")"
   ]
  },
  {
   "cell_type": "code",
   "execution_count": 10,
   "id": "be4b2c4f",
   "metadata": {},
   "outputs": [
    {
     "name": "stdout",
     "output_type": "stream",
     "text": [
      "2 0\n",
      "2 0\n",
      "error=> dividing by zero\n",
      "Mai finally hu ->hamesha chalunga\n"
     ]
    }
   ],
   "source": [
    "#---------------------'finally' keyword----------------------------\n",
    "\n",
    "# If exception aye ya na aye 'finally' wala statement hamesha chalega\n",
    "a,b=[int(ele) for ele in input().split()]\n",
    "print(a,b)\n",
    "\n",
    "#If a and b both are valid code never rach except else do what in except\n",
    "try:\n",
    "   c=a/b\n",
    "except :\n",
    "    print(\"error=> dividing by zero\")\n",
    "else:\n",
    "    print(c)\n",
    "finally:\n",
    "    print(\"Mai finally hu ->hamesha chalunga\")"
   ]
  },
  {
   "cell_type": "raw",
   "id": "5e83d695",
   "metadata": {},
   "source": [
    "------------ 'raise' Keyword ------------"
   ]
  },
  {
   "cell_type": "code",
   "execution_count": 5,
   "id": "fa0c6d03",
   "metadata": {},
   "outputs": [
    {
     "name": "stdout",
     "output_type": "stream",
     "text": [
      "2021\n",
      "2021 is good\n"
     ]
    }
   ],
   "source": [
    "# Raise keyword is used when you wish to raise an exception. If you feel that an\n",
    "# exception should occur in a part of the code, then you can raise an error.\n",
    "\n",
    "# If the exception would be occurring then, that code will be executed.\n",
    "\n",
    "x=int(input())\n",
    "\n",
    "\n",
    "if(x<0):\n",
    "    raise Exception(\"Sorry only non -ve Nums are allowed\")\n",
    "else:\n",
    "    print(x,\"is good\")\n",
    "    "
   ]
  },
  {
   "cell_type": "code",
   "execution_count": null,
   "id": "4d9bc856",
   "metadata": {},
   "outputs": [],
   "source": []
  }
 ],
 "metadata": {
  "kernelspec": {
   "display_name": "Python 3 (ipykernel)",
   "language": "python",
   "name": "python3"
  },
  "language_info": {
   "codemirror_mode": {
    "name": "ipython",
    "version": 3
   },
   "file_extension": ".py",
   "mimetype": "text/x-python",
   "name": "python",
   "nbconvert_exporter": "python",
   "pygments_lexer": "ipython3",
   "version": "3.9.7"
  }
 },
 "nbformat": 4,
 "nbformat_minor": 5
}
