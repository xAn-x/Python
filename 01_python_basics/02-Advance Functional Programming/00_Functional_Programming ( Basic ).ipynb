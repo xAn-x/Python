{
 "cells": [
  {
   "cell_type": "raw",
   "id": "d4b27039",
   "metadata": {},
   "source": [
    "-----FUNCTIONS------\n",
    "A function is a block of code which only runs when it is called.\n",
    "\n",
    "You can pass data, known as parameters, into a function.\n",
    "\n",
    "A function can return data as a result.\n",
    "\n",
    "\n",
    "Syntax->\n",
    "\n",
    "def funcName(arguments):\n",
    "    --body--"
   ]
  },
  {
   "cell_type": "code",
   "execution_count": 3,
   "id": "89eb5236",
   "metadata": {},
   "outputs": [
    {
     "name": "stdout",
     "output_type": "stream",
     "text": [
      "Enter your name: Deepanshu\n",
      "Hello Deepanshu!\n"
     ]
    }
   ],
   "source": [
    "def greet(name):\n",
    "    print(f\"Hello {name}!\")\n",
    "    \n",
    "name=input(\"Enter your name: \")\n",
    "greet(name)"
   ]
  },
  {
   "cell_type": "raw",
   "id": "7f6e3dfa",
   "metadata": {},
   "source": [
    "----PURE FUNCTIONS----\n",
    "\n",
    "A function is called pure function if it always returns the same result for same argument values and it has no side effects like modifying an argument (or global variable) or outputting something. The only result of calling a pure function is the return value. \n",
    "\n",
    "\n",
    "If a function is known as pure to compiler then Loop optimization and subexpression elimination can be applied to it. In GCC, we can mark functions as pure using the “pure” attribute.\n",
    "\n",
    "__attribute__ ((pure)) return-type fun-name(arguments1, …)\n",
    "{\n",
    "    /* function body */\n",
    "}"
   ]
  },
  {
   "cell_type": "code",
   "execution_count": 16,
   "id": "c5fe5780",
   "metadata": {},
   "outputs": [
    {
     "name": "stdout",
     "output_type": "stream",
     "text": [
      "[7, 14, 21]\n"
     ]
    }
   ],
   "source": [
    "#This function does not modify anything and impact only by returning something -> so pure\n",
    "def multiply_lst_ele(lst,k):\n",
    "    new_lst=[]\n",
    "    for ele in lst:\n",
    "        new_lst.append(ele*k)\n",
    "    return new_lst\n",
    "\n",
    "res=multiply_lst_ele([1,2,3],7)\n",
    "print(res)"
   ]
  },
  {
   "cell_type": "markdown",
   "id": "17854c27",
   "metadata": {},
   "source": [
    "----------SOME IMPORTANT IN-BUILT PURE-FUNCTIONS----------- "
   ]
  },
  {
   "cell_type": "raw",
   "id": "eeb23485",
   "metadata": {},
   "source": [
    "-----map()-----\n",
    "\n",
    "map() function returns a map object(which is an iterator) of the results after applying the given function to each item of a given iterable (list, tuple etc.)\n",
    "\n",
    "Syntax :\n",
    "\n",
    "map(fun, iter)\n",
    "\n",
    "\n",
    "In simple words map takes a functionality and an iterable object and perform that function over every ele of the iterable object"
   ]
  },
  {
   "cell_type": "code",
   "execution_count": 20,
   "id": "f30c95bf",
   "metadata": {},
   "outputs": [
    {
     "name": "stdout",
     "output_type": "stream",
     "text": [
      "[2, 4, 6]     [1, 2, 3]\n"
     ]
    }
   ],
   "source": [
    "def multiply_by_2(item):\n",
    "    return item*2\n",
    "\n",
    "myList=[1,2,3]\n",
    "res=list(map(multiply_by_2,myList)) # map() returns a map object so convert it to a list first\n",
    "print(res,\"   \",myList) #my list does not change it create a new list and return that->(pure function)"
   ]
  },
  {
   "cell_type": "raw",
   "id": "8eaca739",
   "metadata": {},
   "source": [
    "-----filter()-----\n",
    "The filter() method filters the given sequence with the help of a function that tests each element in the sequence to be true or not.\n",
    "\n",
    "It returns a filter object.\n",
    "\n",
    "syntax:\n",
    "filter(function, sequence)\n",
    "\n",
    "In simple word it filter ele according to the functionality"
   ]
  },
  {
   "cell_type": "code",
   "execution_count": 2,
   "id": "b4d453fa",
   "metadata": {
    "scrolled": true
   },
   "outputs": [
    {
     "name": "stdout",
     "output_type": "stream",
     "text": [
      "(1, 3, 5, 7)\n"
     ]
    }
   ],
   "source": [
    "def is_odd(item):\n",
    "    return (item&1)>0\n",
    "\n",
    "res=tuple(filter(is_odd,[1,2,3,4,5,6,7]))\n",
    "print(res) #my list does not change it create a new list and return that->(pure function)"
   ]
  },
  {
   "cell_type": "raw",
   "id": "74490183",
   "metadata": {},
   "source": [
    "-----zip()------\n",
    "The zip() function returns a zip object, which is an iterator of tuples where the first item in each passed iterator is paired together, and then the second item in each passed iterator are paired together etc.\n",
    "\n",
    "If the passed iterators have different lengths, the iterator with the least items decides the length of the new iterator.\n",
    "\n",
    "\n",
    "Syntax\n",
    "zip(iterator1, iterator2, iterator3 ...)\n",
    "\n",
    "\n",
    "In simple word it zip/combine 2 or more iterables together"
   ]
  },
  {
   "cell_type": "code",
   "execution_count": 29,
   "id": "d081b744",
   "metadata": {},
   "outputs": [
    {
     "name": "stdout",
     "output_type": "stream",
     "text": [
      "{'Deepanshu': 1, 'Rahul': 3, 'Mamta': 2, 'Manju': 4}      ('Deepanshu', 'Rahul', 'Mamta', 'Manju')       [1, 3, 2, 4, 5, 6, 7]\n"
     ]
    }
   ],
   "source": [
    "name=(\"Deepanshu\",\"Rahul\",\"Mamta\",\"Manju\")\n",
    "roll_no=[1,3,2,4,5,6,7]\n",
    "\n",
    "res=dict(zip(name,roll_no)) #Converting zip object to required iterable/object\n",
    "print(res,\"    \",name,\"     \",roll_no)"
   ]
  },
  {
   "cell_type": "raw",
   "id": "f70b56b3",
   "metadata": {},
   "source": [
    "-------reduce()--------\n",
    "The reduce() function facilitates a functional approach to Python programming. It performs a rolling-computation as specified by the passed function to the neighboring elements, by taking a function and an iterable as arguments, and returns the final computed value.\n",
    "\n",
    "Note: A rolling-computation is the one where we compute the required value by going through all of the data starting from the first value, where each new result depends on the last computed result of the previous data.\n",
    "\n",
    "The reduce() function computation is similar to a for-loop in Python, but being an in-built function, it’s much better and faster.\n",
    "\n",
    "Return a valid object\n",
    "\n",
    "Syntax=>\n",
    "reduce(function, iterable , starting_val=0)\n",
    "\n",
    "NOTE:-\n",
    "The reduce() function resides in the functools module which must be imported before the function is called."
   ]
  },
  {
   "cell_type": "code",
   "execution_count": 40,
   "id": "a057c897",
   "metadata": {},
   "outputs": [
    {
     "name": "stdout",
     "output_type": "stream",
     "text": [
      "45\n",
      "55\n"
     ]
    }
   ],
   "source": [
    "from functools import reduce\n",
    "def accumulate(item,start):\n",
    "    \n",
    "    return start + item\n",
    "\n",
    "nums=range(10)\n",
    "res=reduce(accumulate,nums,0)# here nums is passed as 1st argument in accumulate and 0 as start in accumulate\n",
    "print(res)\n",
    "res=reduce(accumulate,nums,10)# here nums is passed as 1st argument in accumulate and 10 as start in accumulate\n",
    "print(res)\n",
    "\n",
    "\n",
    "# for [1,2,3] ,start=0 It is doing something like this->\n",
    "    # 1+0(start)=1-->it's result is new start now\n",
    "    # 2+1(start)=3-->it's result is new start now\n",
    "    # 3+3(start)=6 -->final result"
   ]
  },
  {
   "cell_type": "code",
   "execution_count": null,
   "id": "c0b12bb0",
   "metadata": {},
   "outputs": [],
   "source": []
  }
 ],
 "metadata": {
  "kernelspec": {
   "display_name": "base",
   "language": "python",
   "name": "python3"
  },
  "language_info": {
   "codemirror_mode": {
    "name": "ipython",
    "version": 3
   },
   "file_extension": ".py",
   "mimetype": "text/x-python",
   "name": "python",
   "nbconvert_exporter": "python",
   "pygments_lexer": "ipython3",
   "version": "3.9.7"
  },
  "vscode": {
   "interpreter": {
    "hash": "610a6f344c2137faf927ea819c63f6cee33a2c04455044b28099f39fe9722347"
   }
  }
 },
 "nbformat": 4,
 "nbformat_minor": 5
}
