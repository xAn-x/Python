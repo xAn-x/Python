{
 "cells": [
  {
   "cell_type": "markdown",
   "id": "ed218960",
   "metadata": {},
   "source": [
    "-------- LAMBDA EXPRESSIONS ---------"
   ]
  },
  {
   "cell_type": "raw",
   "id": "2fa4b51d",
   "metadata": {},
   "source": [
    "Python Lambda Functions are anonymous function means that the function is without a name\n",
    "\n",
    "As we already know that the def keyword is used to define a normal function in Python. Similarly, the lambda keyword is used to define an anonymous function in Python. \n",
    "\n",
    "A lambda function can take any number of arguments, but can only have one expression.\n",
    "\n",
    "Syntax\n",
    "lambda arguments : expression"
   ]
  },
  {
   "cell_type": "code",
   "execution_count": 42,
   "id": "d17fdd0d",
   "metadata": {},
   "outputs": [
    {
     "name": "stdout",
     "output_type": "stream",
     "text": [
      "8\n",
      "6\n"
     ]
    }
   ],
   "source": [
    "expo = lambda x , y: x**y  # an anonymous function we use to perform exponentiation\n",
    "print(expo(2,3))\n",
    "\n",
    "\n",
    "multiply_by = lambda item , value : item * value\n",
    "res= multiply_by(2,3)\n",
    "print(res)"
   ]
  },
  {
   "cell_type": "code",
   "execution_count": 48,
   "id": "1ca271ea",
   "metadata": {},
   "outputs": [
    {
     "name": "stdout",
     "output_type": "stream",
     "text": [
      "(2, 4, 6)\n"
     ]
    }
   ],
   "source": [
    "# With help of lamda function we can use inbuilt function more convinently\n",
    "res = tuple( map(lambda item : item*2 , [1,2,3]) )\n",
    "print(res)"
   ]
  },
  {
   "cell_type": "code",
   "execution_count": 2,
   "id": "0ecb2fd8",
   "metadata": {},
   "outputs": [
    {
     "name": "stdout",
     "output_type": "stream",
     "text": [
      "(0, 10, 20, 30, 40, 50, 60, 70, 80, 90)\n"
     ]
    }
   ],
   "source": [
    "# If I want to use lambda with more than one arg inseide function like map then except iterable function pass value of rest arguments\n",
    "res= tuple( map(lambda item,val=10:item*val,range(10)) )\n",
    "print(res)"
   ]
  },
  {
   "cell_type": "code",
   "execution_count": 31,
   "id": "032f5822",
   "metadata": {},
   "outputs": [
    {
     "name": "stdout",
     "output_type": "stream",
     "text": [
      "[(10, -1), (0, 2), (4, 3), (9, 9)]\n"
     ]
    }
   ],
   "source": [
    "# List sorting using lambda function->\n",
    "lst=[ (0,2),(4,3),(9,9),(10,-1) ] #sort on basis of 2nd ele\n",
    "\n",
    "lst.sort(key=lambda x:x[1]) #Always sort by 2nd item\n",
    "print(lst)"
   ]
  },
  {
   "cell_type": "markdown",
   "id": "05df6b99",
   "metadata": {},
   "source": [
    "------------COMPREHENSIONS IN PYTHON-------------"
   ]
  },
  {
   "cell_type": "raw",
   "id": "b4162f06",
   "metadata": {},
   "source": [
    "Comprehensions in Python provide us with a short and concise way to construct new sequences (such as lists, set, dictionary etc.) using sequences which have been already defined.\n",
    "\n",
    "Python supports the following 4 types of comprehensions:\n",
    "1. List Comprehensions\n",
    "2. Dictionary Comprehensions\n",
    "3. Set Comprehensions\n",
    "4. Generator Comprehensions\n",
    "\n",
    "Syntax->\n",
    "ds={pram1 for pram2 in ds2}\n",
    "\n",
    "To learn more->https://www.geeksforgeeks.org/comprehensions-in-python/"
   ]
  },
  {
   "cell_type": "code",
   "execution_count": 34,
   "id": "6caae59e",
   "metadata": {},
   "outputs": [
    {
     "name": "stdout",
     "output_type": "stream",
     "text": [
      "lst:['H', 'e', 'l', 'l', 'o', ' ', 'W', 'o', 'r', 'l', 'd', '!']\tlst2:['H', 'e', 'l', 'l', 'o', ' ', 'W', 'o', 'r', 'l', 'd', '!']\n"
     ]
    }
   ],
   "source": [
    "#List Comprehensions:\n",
    "\n",
    "# If we want to make a list using string there are 2 ways->\n",
    "\n",
    "#Method-1=>\n",
    "lst=[]\n",
    "for char in \"Hello World!\":\n",
    "    lst.append(char)\n",
    "    \n",
    "\n",
    "# Comprehension way->\n",
    "lst2=[char for char in \"Hello World!\"]\n",
    "print(f\"lst:{lst}\\tlst2:{lst2}\")"
   ]
  },
  {
   "cell_type": "code",
   "execution_count": 42,
   "id": "a3ec4ea2",
   "metadata": {},
   "outputs": [
    {
     "name": "stdout",
     "output_type": "stream",
     "text": [
      "[0, 4, 16, 36, 64]\n"
     ]
    }
   ],
   "source": [
    "# Create a list which contain sqr of all nums from [0,10] and even\n",
    "lst=[num*num for num in range(10) if num&1==0] #->lst=[ (exp) (condn) ]\n",
    "print(lst)"
   ]
  },
  {
   "cell_type": "code",
   "execution_count": null,
   "id": "93de3a6d",
   "metadata": {},
   "outputs": [],
   "source": []
  }
 ],
 "metadata": {
  "kernelspec": {
   "display_name": "base",
   "language": "python",
   "name": "python3"
  },
  "language_info": {
   "codemirror_mode": {
    "name": "ipython",
    "version": 3
   },
   "file_extension": ".py",
   "mimetype": "text/x-python",
   "name": "python",
   "nbconvert_exporter": "python",
   "pygments_lexer": "ipython3",
   "version": "3.9.7 (default, Sep 16 2021, 16:59:28) [MSC v.1916 64 bit (AMD64)]"
  },
  "vscode": {
   "interpreter": {
    "hash": "610a6f344c2137faf927ea819c63f6cee33a2c04455044b28099f39fe9722347"
   }
  }
 },
 "nbformat": 4,
 "nbformat_minor": 5
}
