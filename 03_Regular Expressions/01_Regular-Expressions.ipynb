{
 "cells": [
  {
   "cell_type": "raw",
   "id": "1f328427",
   "metadata": {},
   "source": [
    "Regular Expressions, also known as “regex” or “regexp”, are used to match strings of text such as particular characters, words, or patterns of characters. \n",
    "\n",
    "It means that we can match and extract any string pattern from the text with the help of regular expressions.\n",
    "\n",
    "Regular expressions are imp whenever we need to do validation chk like is the email correct or is password entered is valid or not"
   ]
  },
  {
   "cell_type": "code",
   "execution_count": 1,
   "id": "edf0fcd6",
   "metadata": {},
   "outputs": [
    {
     "name": "stdout",
     "output_type": "stream",
     "text": [
      "True\n"
     ]
    }
   ],
   "source": [
    "# Searching in string\n",
    "st='I need to search something in this string!...so search'\n",
    "\n",
    "# To chk weather a substring is part of my string We can use 'in'\n",
    "print('something' in st)"
   ]
  },
  {
   "cell_type": "code",
   "execution_count": 2,
   "id": "f2b90a05",
   "metadata": {},
   "outputs": [],
   "source": [
    "# Now If we have in than why I need  regex -> Simple it provides a lot more functionality\n",
    "\n",
    "#re stands for regex this has a lot of inbuilt useful functionality\n",
    "import re "
   ]
  },
  {
   "cell_type": "code",
   "execution_count": 3,
   "id": "c172dc48",
   "metadata": {},
   "outputs": [
    {
     "name": "stdout",
     "output_type": "stream",
     "text": [
      "<re.Match object; span=(17, 26), match='something'>\n",
      "(17, 26)\n",
      "17 - 26\n",
      "something\n",
      "Not Found!\n"
     ]
    }
   ],
   "source": [
    "# search(pattern,string)->return a regex object that contain a lot of info\n",
    "a=re.search('something',st)\n",
    "print(a)\n",
    "\n",
    "#-----Info +nt in regex object-------\n",
    "\n",
    "# span()->return the index range where it is +nt --> [st,end)\n",
    "print(a.span()) \n",
    "\n",
    "# start()/end()->return starting and ending pos respectively\n",
    "print(f'{a.start()} - {a.end()}')\n",
    "\n",
    "# group()->return the string if match else return NoneType object signifies pattern not +print\n",
    "print(a.group())\n",
    "\n",
    "b=re.search('gama',st)\n",
    "\n",
    "if(b==None):\n",
    "    print('Not Found!')\n",
    "else:\n",
    "    print(b.group())"
   ]
  },
  {
   "cell_type": "code",
   "execution_count": 4,
   "id": "f4bdc981",
   "metadata": {},
   "outputs": [
    {
     "name": "stdout",
     "output_type": "stream",
     "text": [
      "<re.Match object; span=(10, 16), match='search'>\n"
     ]
    }
   ],
   "source": [
    "# compile(pattern)->this convert pattern to a regex object and we can then directly use this for all other operations we wanna do.\n",
    "\n",
    "pattern=re.compile('search')\n",
    "obj=pattern.search(st)\n",
    "print(obj)\n",
    "\n",
    "# Always compile your pattern as regex object are usally faster and more efficient so we can use the pattern more effectively."
   ]
  },
  {
   "cell_type": "markdown",
   "id": "3d234265",
   "metadata": {},
   "source": [
    "More Functionality"
   ]
  },
  {
   "cell_type": "code",
   "execution_count": 5,
   "id": "6c42fd82",
   "metadata": {},
   "outputs": [
    {
     "name": "stdout",
     "output_type": "stream",
     "text": [
      "['Hello', 'Hello'] \n",
      "\n",
      "None\n",
      "<re.Match object; span=(0, 31), match='Hello Deepanshu! Hello Sasukee!'>\n",
      "\n",
      "<re.Match object; span=(0, 5), match='Hello'>\n",
      "<re.Match object; span=(0, 31), match='Hello Deepanshu! Hello Sasukee!'>\n",
      "\n",
      "['Hello Deepanshu', ' Hello Sasukee', '']\n",
      "Hey.. Deepanshu! Hey.. Sasukee!\n"
     ]
    }
   ],
   "source": [
    "exp='Hello Deepanshu! Hello Sasukee!'\n",
    "pattern=re.compile('Hello')\n",
    "\n",
    "# findall(pattern,string) ->return all occurrences of pattern in a list\n",
    "\n",
    "print(pattern.findall(exp),'\\n')\n",
    "\n",
    "\n",
    "\n",
    "# fullmatch(pattern,string)-> return a regex obj if pattern and string both match completely else return None\n",
    "\n",
    "print(pattern.fullmatch(exp))\n",
    "pattern2=re.compile(exp)\n",
    "print(pattern2.fullmatch(exp))\n",
    "\n",
    "\n",
    "\n",
    "# match(pattern,string)->return a regex obj if some char of string is smae as pattern else return None \n",
    "\n",
    "print(f'\\n{pattern.match(exp)}')\n",
    "print(pattern2.fullmatch(exp))\n",
    "\n",
    "\n",
    "\n",
    "# split(pattern,string)->Returns a list where the string has been split at each match\n",
    "\n",
    "pattern3=re.compile('!')\n",
    "print(f'\\n{pattern3.split(exp)}')\n",
    "\n",
    "\n",
    "\n",
    "# sub(pattern,replacement,string)->Replaces one or many matches with a string\n",
    "\n",
    "exp=re.sub('Hello','Hey..', exp)\n",
    "print(exp)"
   ]
  },
  {
   "cell_type": "code",
   "execution_count": 6,
   "id": "6217e0e1",
   "metadata": {},
   "outputs": [],
   "source": [
    "# Note there are many symbols in reg exp to chk diffrent diffrent things but we hardly use it if u want to do some complex validation chk like is email valid or not just search in web and use that "
   ]
  },
  {
   "cell_type": "code",
   "execution_count": 7,
   "id": "1fd87a72",
   "metadata": {},
   "outputs": [
    {
     "name": "stdout",
     "output_type": "stream",
     "text": [
      "Enter your mail id: deepanshu123@bhatt.com\n",
      "Yup! valid email :)\n"
     ]
    }
   ],
   "source": [
    "# WAP to chk if email entered by user is valid or not->\n",
    "pattern=re.compile(r\"(^[a-zA-Z0-9_.+-]+@[a-zA-Z0-9-]+\\.[a-zA-Z0-9-.]+$)\")\n",
    "\n",
    "email=input(\"Enter your mail id: \")\n",
    "\n",
    "if(pattern.fullmatch(email)!=None):\n",
    "    print(\"Yup! valid email :)\")\n",
    "else:\n",
    "    print(\"Hey,Buddy enter a valid email :{\")"
   ]
  },
  {
   "cell_type": "code",
   "execution_count": 34,
   "id": "32708ebd",
   "metadata": {},
   "outputs": [
    {
     "name": "stdout",
     "output_type": "stream",
     "text": [
      "Enter your password: deepanshu@123\n",
      "Valid Password :)\n"
     ]
    }
   ],
   "source": [
    "# Wap a regex expression to chk weather a string has atleast length 8 and mst only letters,numbers and $,%,#,@ only and must be end with numbers\n",
    "\n",
    "# should contain only char in [ [a-z],[A-Z],[0-9],$,%,#,@ ] only lst block [should contain numbers only] \n",
    "# + denote more char\n",
    "pattern=re.compile(r\"([a-zA-Z0-9$%#@]+[0-9])\")\n",
    "\n",
    "password=input(\"Enter your password: \")\n",
    "\n",
    "if(pattern.fullmatch(password) and len(password)>=8):\n",
    "    print(\"Valid Password :)\")\n",
    "else:\n",
    "    print(\"Invalid Password :(\")"
   ]
  },
  {
   "cell_type": "code",
   "execution_count": 35,
   "id": "9b1ca0ed",
   "metadata": {},
   "outputs": [
    {
     "name": "stdout",
     "output_type": "stream",
     "text": [
      "Enter your password: deepanshu@123\n",
      "Valid Password :)\n"
     ]
    }
   ],
   "source": [
    "# Method-2=>\n",
    "\n",
    "# {a,b} ->represent there should be atleast 'a' of exp type and atmost 'b'\n",
    "# \\d -> any digit\n",
    "pattern=re.compile(r\"([a-zA-Z0-9$%#@]{7,}\\d)\")\n",
    "\n",
    "password=input(\"Enter your password: \")\n",
    "\n",
    "if(pattern.fullmatch(password)):\n",
    "    print(\"Valid Password :)\")\n",
    "else:\n",
    "    print(\"Invalid Password :(\")"
   ]
  },
  {
   "cell_type": "code",
   "execution_count": null,
   "id": "8a73d668",
   "metadata": {},
   "outputs": [],
   "source": []
  }
 ],
 "metadata": {
  "kernelspec": {
   "display_name": "Python 3 (ipykernel)",
   "language": "python",
   "name": "python3"
  },
  "language_info": {
   "codemirror_mode": {
    "name": "ipython",
    "version": 3
   },
   "file_extension": ".py",
   "mimetype": "text/x-python",
   "name": "python",
   "nbconvert_exporter": "python",
   "pygments_lexer": "ipython3",
   "version": "3.9.7"
  }
 },
 "nbformat": 4,
 "nbformat_minor": 5
}
