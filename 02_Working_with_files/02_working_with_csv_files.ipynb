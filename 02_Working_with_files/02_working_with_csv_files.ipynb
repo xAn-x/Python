{
 "cells": [
  {
   "cell_type": "code",
   "execution_count": 2,
   "id": "1a1780f1",
   "metadata": {},
   "outputs": [
    {
     "name": "stdout",
     "output_type": "stream",
     "text": [
      "['1,\"Eldon Base for stackable storage shelf, platinum\",Muhammed MacIntyre,3,-213.25,38.94,35,Nunavut,Storage & Organization,0.8\\n', '2,\"1.7 Cubic Foot Compact \"\"Cube\"\" Office Refrigerators\",Barry French,293,457.81,208.16,68.02,Nunavut,Appliances,0.58\\n', '3,\"Cardinal Slant-D® Ring Binder, Heavy Gauge Vinyl\",Barry French,293,46.71,8.69,2.99,Nunavut,Binders and Binder Accessories,0.39\\n', '4,R380,Clay Rozendal,483,1198.97,195.99,3.99,Nunavut,Telephones and Communication,0.58\\n', '5,Holmes HEPA Air Purifier,Carlos Soltero,515,30.94,21.78,5.94,Nunavut,Appliances,0.5\\n']\n"
     ]
    }
   ],
   "source": [
    "# CSV file stands for -> comma separated values files and this is one of the most common\n",
    "#ways to share data.This file has no. of rows and cols and data is present inside it.\n",
    "\n",
    "#Have attached a pic to show how a csv file really looks like\n",
    "\n",
    "#We can work with this csv file similar to txt file but that would not be that beneficial and \n",
    "#effective\n",
    "\n",
    "with open(\"csv_testFile.csv\") as file_obj:\n",
    "    lst=file_obj.readlines()\n",
    "\n",
    "print(lst[:5]) #print first 4 lines \n",
    "\n",
    "#This make it hard to read and proccess data from csv filesystem"
   ]
  },
  {
   "cell_type": "code",
   "execution_count": 5,
   "id": "f035bdff",
   "metadata": {
    "scrolled": true
   },
   "outputs": [
    {
     "name": "stdout",
     "output_type": "stream",
     "text": [
      "\n",
      "------------------------------------------------------------------------------------\n",
      "\n",
      "<class '_csv.reader'>\n",
      "['1', 'Eldon Base for stackable storage shelf, platinum', 'Muhammed MacIntyre', '3', '-213.25', '38.94', '35', 'Nunavut', 'Storage & Organization', '0.8']\n",
      "['2', '1.7 Cubic Foot Compact \"Cube\" Office Refrigerators', 'Barry French', '293', '457.81', '208.16', '68.02', 'Nunavut', 'Appliances', '0.58']\n",
      "['3', 'Cardinal Slant-D® Ring Binder, Heavy Gauge Vinyl', 'Barry French', '293', '46.71', '8.69', '2.99', 'Nunavut', 'Binders and Binder Accessories', '0.39']\n",
      "\n",
      "------------------------------------------------------------------------------------\n",
      "\n",
      "[['4', 'R380', 'Clay Rozendal', '483', '1198.97', '195.99', '3.99', 'Nunavut', 'Telephones and Communication', '0.58'], ['5', 'Holmes HEPA Air Purifier', 'Carlos Soltero', '515', '30.94', '21.78', '5.94', 'Nunavut', 'Appliances', '0.5'], ['6', 'G.E. Longer-Life Indoor Recessed Floodlight Bulbs', 'Carlos Soltero', '515', '4.43', '6.64', '4.95', 'Nunavut', 'Office Furnishings', '0.37'], ['7', 'Angle-D Binders with Locking Rings, Label Holders', 'Carl Jackson', '613', '-54.04', '7.3', '7.72', 'Nunavut', 'Binders and Binder Accessories', '0.38'], ['8', 'SAFCO Mobile Desk Side File, Wire Frame', 'Carl Jackson', '613', '127.70', '42.76', '6.22', 'Nunavut', 'Storage & Organization', '']]\n"
     ]
    }
   ],
   "source": [
    "#To work with csv files we need to import csv library into our programme\n",
    "import csv      \n",
    "with open(\"csv_testFile.csv\") as file_obj:\n",
    "      #use csv.reader(obj)->this is far beeter than normal function and make it easy to read \n",
    "                          # csv file data and process it\n",
    "       file_data=csv.reader(file_obj) \n",
    "       print(type(file_data)) #type is not list but _csv.reader\n",
    "       \n",
    "       count=0 \n",
    "       for row in file_data:\n",
    "            print(row)\n",
    "            count+=1\n",
    "            \n",
    "            if count==3: #printing the first 3 rows of csv file\n",
    "                break\n",
    "        \n",
    "       lst=list(file_data) #Converted file data to list\n",
    "    \n",
    "\n",
    "print(\"\\n------------------------------------------------------------------------------------\\n\")\n",
    "print(lst[:5]) #-Now I can print the first 5 lines of sameple \n",
    "    \n",
    "    \n",
    "\n",
    "# NOTE:-The csv.reader() seprate column values using a ',' so it's easy to read that data"
   ]
  },
  {
   "cell_type": "code",
   "execution_count": 11,
   "id": "cd70cbc2",
   "metadata": {},
   "outputs": [
    {
     "name": "stdout",
     "output_type": "stream",
     "text": [
      "1|Eldon Base for stackable storage shelf, platinum|Muhammed MacIntyre|3|-213.25|38.94|35|Nunavut|Storage & Organization|0.8|\n",
      "\n",
      "2|1.7 Cubic Foot Compact \"Cube\" Office Refrigerators|Barry French|293|457.81|208.16|68.02|Nunavut|Appliances|0.58|\n",
      "\n",
      "3|Cardinal Slant-D® Ring Binder, Heavy Gauge Vinyl|Barry French|293|46.71|8.69|2.99|Nunavut|Binders and Binder Accessories|0.39|"
     ]
    }
   ],
   "source": [
    "# --------------------------------FUNCTIONS in CSV Library-----------------------------------------\n",
    "# NOTE:-if seprator is other than ',' then to deal with such file-->\n",
    "        #-file_data=csv.reader(obj,delimeter='delim')\n",
    "\n",
    "# NOTE:-Sometimes there are preceding space in some col like '  val' so to remove that we can use->\n",
    "            # file_dat=csv.reader(obj,skipinitialspace=true)\n",
    "      #This parameter removes the initial spaces  by default this value is false.\n",
    "\n",
    "import csv\n",
    "\n",
    "with open(\"csv_testFile.csv\") as file_obj:\n",
    "    lst=list(csv.reader(file_obj));\n",
    "\n",
    "    \n",
    "#Cleans way to print the list  \n",
    "count=0\n",
    "for row in lst:\n",
    "    for col in row:\n",
    "        print(col,end=\"|\")\n",
    "    \n",
    "    count+=1\n",
    "    if(count==3):\n",
    "        break\n",
    "        \n",
    "    print('\\n')    "
   ]
  },
  {
   "cell_type": "code",
   "execution_count": 20,
   "id": "7c89aa6a",
   "metadata": {},
   "outputs": [
    {
     "data": {
      "text/plain": [
       "['Eldon Base for stackable storage shelf, platinum',\n",
       " '1.7 Cubic Foot Compact \"Cube\" Office Refrigerators',\n",
       " 'Cardinal Slant-D® Ring Binder, Heavy Gauge Vinyl',\n",
       " 'R380',\n",
       " 'Holmes HEPA Air Purifier']"
      ]
     },
     "execution_count": 20,
     "metadata": {},
     "output_type": "execute_result"
    }
   ],
   "source": [
    "#Now How To rxtract data of one single col in that file\n",
    "    #for row in lst:\n",
    "        #l.append(row[col_no])\n",
    "\n",
    "        \n",
    "        \n",
    "#Lets say I want to extract all name in csv testFile\n",
    "\n",
    "name_list=[];\n",
    "\n",
    "#Pehle % logo ka name-->\n",
    "for row in lst[:5]:\n",
    "    name_list.append(row[1])\n",
    "    #Note->csv.reader() always make a col for element count so col in csv file = 1+col in reader \n",
    "    \n",
    "print(name_list)\n",
    "\n",
    "#Now since we have list of name now we can perform all needed oprn"
   ]
  },
  {
   "cell_type": "code",
   "execution_count": 36,
   "id": "e75654a7",
   "metadata": {},
   "outputs": [
    {
     "name": "stdout",
     "output_type": "stream",
     "text": [
      "Year\n",
      "Month\n",
      "Day\n",
      "Country\n",
      "Region\n",
      "city\n",
      "latitude\n",
      "longitude\n",
      "AttackType\n",
      "Killed\n",
      "Wounded\n",
      "Target\n",
      "Group\n",
      "Target_type\n",
      "Weapon_type\n",
      "casualities\n"
     ]
    }
   ],
   "source": [
    "# for year2017_csv_testFile2 print col name in diffrent line\n",
    "\n",
    "with open(\"year2017_csv_testFile2.csv\") as file_obj:\n",
    "    file_data=list(csv.reader(file_obj,skipinitialspace=True))\n",
    "    \n",
    "    #for 1st row in  file_data put there col anem into a another list\n",
    "    col_name_list=[]\n",
    "    for col in file_data[0]:\n",
    "        col_name_list.append(col)\n",
    "        \n",
    "\n",
    "        \n",
    "#Print col data in next line\n",
    "for ele in col_name_list:\n",
    "    print(ele)"
   ]
  },
  {
   "cell_type": "code",
   "execution_count": 27,
   "id": "6b08d6bd",
   "metadata": {},
   "outputs": [
    {
     "name": "stdout",
     "output_type": "stream",
     "text": [
      "465.0\n"
     ]
    }
   ],
   "source": [
    "# for year2017_csv_testFile2 print total no of people who die in INDIA\n",
    "\n",
    "#I am using above store file data only\n",
    "killed=[]\n",
    "country=[]\n",
    "\n",
    "#I dont nead name of cols\n",
    "for row in file_data[1:]:\n",
    "    country.append(row[3])\n",
    "    killed.append((row[9]))\n",
    "    \n",
    "s=len(country)\n",
    "dead=0\n",
    "\n",
    "# print(country)\n",
    "for i in range(0,s):\n",
    "    if(country[i]=='India' and killed[i]!=''):\n",
    "            dead+=float(killed[i])\n",
    "        \n",
    "print(dead)\n"
   ]
  },
  {
   "cell_type": "code",
   "execution_count": 114,
   "id": "77e69f67",
   "metadata": {},
   "outputs": [
    {
     "name": "stdout",
     "output_type": "stream",
     "text": [
      "1 --> 2275.0\n",
      "2 --> 2027.0\n",
      "3 --> 2463.0\n",
      "4 --> 2142.0\n",
      "5 --> 2936.0\n",
      "6 --> 2506.0\n",
      "7 --> 2228.0\n",
      "8 --> 2145.0\n",
      "9 --> 1764.0\n",
      "10 --> 2580.0\n",
      "11 --> 2014.0\n",
      "12 --> 1365.0\n"
     ]
    }
   ],
   "source": [
    "# for year2017_csv_testFile2 print no of people died in each month\n",
    "died_in =[0 for i in range(13)]\n",
    "\n",
    "\n",
    "for row in file_data[1:]:\n",
    "    if(row[1]!='' and row[9]!=''):\n",
    "        died_in[int(row[1])] += float(row[9])\n",
    "#         print(row[1])\n",
    "#         break\n",
    "\n",
    "for i in range(1,13):\n",
    "    print(i,\"-->\",died_in[i])"
   ]
  },
  {
   "cell_type": "raw",
   "id": "62309ddb",
   "metadata": {},
   "source": [
    "---------------------------DICT Reader in CSV------------------------------------------------"
   ]
  },
  {
   "cell_type": "code",
   "execution_count": 10,
   "id": "c034de7c",
   "metadata": {},
   "outputs": [
    {
     "name": "stdout",
     "output_type": "stream",
     "text": [
      "{'Year': '2017', 'Month': '1', 'Day': '2', 'Country': 'Afghanistan', 'Region': 'South Asia', 'city': 'Takhta Pul', 'latitude': '31.320556', 'longitude': '65.961111', 'AttackType': 'Hostage Taking (Kidnapping)', 'Killed': '0.0', 'Wounded': '0.0', 'Target': 'Construction Workers', 'Group': 'Taliban', 'Target_type': 'Business', 'Weapon_type': 'Firearms', 'casualities': '0.0'} \n",
      "\n",
      "{'Year': '2017', 'Month': '1', 'Day': '3', 'Country': 'Sudan', 'Region': 'Sub-Saharan Africa', 'city': 'Fantaga', 'latitude': '12.921007000000001', 'longitude': '24.318324', 'AttackType': 'Armed Assault', 'Killed': '2.0', 'Wounded': '0.0', 'Target': 'Civilians: Haroun Yousif, Hamid Ibrahim', 'Group': 'Unknown', 'Target_type': 'Private Citizens & Property', 'Weapon_type': 'Firearms', 'casualities': '2.0'} \n",
      "\n",
      "{'Year': '2017', 'Month': '1', 'Day': '1', 'Country': 'Democratic Republic of the Congo', 'Region': 'Sub-Saharan Africa', 'city': 'Saboko', 'latitude': '1.452372', 'longitude': '29.875162', 'AttackType': 'Armed Assault', 'Killed': '7.0', 'Wounded': '0.0', 'Target': 'Village', 'Group': 'Allied Democratic Forces (ADF)', 'Target_type': 'Private Citizens & Property', 'Weapon_type': 'Melee', 'casualities': '7.0'} \n",
      "\n",
      "{'Year': '2017', 'Month': '1', 'Day': '1', 'Country': 'Democratic Republic of the Congo', 'Region': 'Sub-Saharan Africa', 'city': 'Bialee', 'latitude': '1.4523700000000002', 'longitude': '29.875186', 'AttackType': 'Armed Assault', 'Killed': '7.0', 'Wounded': '0.0', 'Target': 'Village', 'Group': 'Allied Democratic Forces (ADF)', 'Target_type': 'Private Citizens & Property', 'Weapon_type': 'Melee', 'casualities': '7.0'} \n",
      "\n",
      "{'Year': '2017', 'Month': '1', 'Day': '1', 'Country': 'Turkey', 'Region': 'Middle East & North Africa', 'city': 'Istanbul', 'latitude': '41.106178', 'longitude': '28.689863', 'AttackType': 'Armed Assault', 'Killed': '39.0', 'Wounded': '69.0', 'Target': 'Nightclub', 'Group': 'Islamic State of Iraq and the Levant (ISIL)', 'Target_type': 'Business', 'Weapon_type': 'Firearms', 'casualities': '108.0'} \n",
      "\n",
      "===============================================================================\n",
      "\n",
      "{'a': 'Year', 'b': 'Month', 'c': 'Day', None: ['Country', 'Region', 'city', 'latitude', 'longitude', 'AttackType', 'Killed', 'Wounded', 'Target', 'Group', 'Target_type', 'Weapon_type', 'casualities']} \n",
      "\n",
      "{'a': '2017', 'b': '1', 'c': '2', None: ['Afghanistan', 'South Asia', 'Takhta Pul', '31.320556', '65.961111', 'Hostage Taking (Kidnapping)', '0.0', '0.0', 'Construction Workers', 'Taliban', 'Business', 'Firearms', '0.0']} \n",
      "\n",
      "{'a': '2017', 'b': '1', 'c': '3', None: ['Sudan', 'Sub-Saharan Africa', 'Fantaga', '12.921007000000001', '24.318324', 'Armed Assault', '2.0', '0.0', 'Civilians: Haroun Yousif, Hamid Ibrahim', 'Unknown', 'Private Citizens & Property', 'Firearms', '2.0']} \n",
      "\n",
      "{'a': '2017', 'b': '1', 'c': '1', None: ['Democratic Republic of the Congo', 'Sub-Saharan Africa', 'Saboko', '1.452372', '29.875162', 'Armed Assault', '7.0', '0.0', 'Village', 'Allied Democratic Forces (ADF)', 'Private Citizens & Property', 'Melee', '7.0']} \n",
      "\n",
      "{'a': '2017', 'b': '1', 'c': '1', None: ['Democratic Republic of the Congo', 'Sub-Saharan Africa', 'Bialee', '1.4523700000000002', '29.875186', 'Armed Assault', '7.0', '0.0', 'Village', 'Allied Democratic Forces (ADF)', 'Private Citizens & Property', 'Melee', '7.0']} \n",
      "\n"
     ]
    }
   ],
   "source": [
    "#csv.DictReader()->use to read data in form of dictionary where\n",
    "                    #key->col header(0th row)  values ->corresponding data values\n",
    "    \n",
    "import csv\n",
    "with open(\"year2017_csv_testFile2.csv\") as file_obj:\n",
    "    file_dict=csv.DictReader(file_obj)\n",
    "    \n",
    "    count=0\n",
    "    for row in file_dict:\n",
    "        print(row,\"\\n\")\n",
    "    \n",
    "        count+=1\n",
    "        if count==5:\n",
    "            break\n",
    "\n",
    "            \n",
    "# For every row we can provide custom name/header also using->\n",
    "    #fieldnames=(co#l1 name,col2_name....)->if no of args are less then total col \n",
    "    #then there default name wiil assign to them\n",
    "\n",
    "print(\"===============================================================================\\n\")\n",
    "with open(\"year2017_csv_testFile2.csv\") as file_obj:\n",
    "    file_dict=csv.DictReader(file_obj,skipinitialspace=True,fieldnames=('a','b','c'))\n",
    "    \n",
    "    count=0\n",
    "    for row in file_dict:\n",
    "        print(row,\"\\n\")\n",
    "    \n",
    "        count+=1\n",
    "        if count==5:\n",
    "            break  \n",
    "\n",
    "#All other functionlike skipinitialspace etc are valid for this to"
   ]
  },
  {
   "cell_type": "code",
   "execution_count": 20,
   "id": "fa455ee5",
   "metadata": {},
   "outputs": [
    {
     "name": "stdout",
     "output_type": "stream",
     "text": [
      "Firearms\n",
      "Firearms\n",
      "Melee\n",
      "Melee\n",
      "Firearms\n",
      "Explosives\n",
      "Explosives\n",
      "Explosives\n",
      "Explosives\n",
      "Firearms\n",
      "Firearms\n",
      "Explosives\n",
      "Explosives\n",
      "Explosives\n",
      "Firearms\n"
     ]
    }
   ],
   "source": [
    "#Now Sinc we have keys as col name we can acces any data using file_data[keyName]->\n",
    "\n",
    "#Lets print all WeaponType values again->\n",
    "import csv\n",
    "with open(\"year2017_csv_testFile2.csv\") as file_obj:\n",
    "    file_dict=csv.DictReader(file_obj,skipinitialspace=True)\n",
    "    \n",
    "    count=0\n",
    "    for row in file_dict:\n",
    "        count+=1\n",
    "        print(row['Weapon_type']) #Since years is assigned as a in my dict\n",
    "        if(count==15):\n",
    "            break"
   ]
  },
  {
   "cell_type": "code",
   "execution_count": 20,
   "id": "9f7feb40",
   "metadata": {},
   "outputs": [
    {
     "name": "stdout",
     "output_type": "stream",
     "text": [
      "{'Afghanistan': 6092.0, 'Sudan': 82.0, 'Democratic Republic of the Congo': 596.0, 'Turkey': 222.0, 'Syria': 2026.0, 'Pakistan': 1076.0, 'Italy': 0.0, 'Somalia': 1912.0, 'Yemen': 762.0, 'Bahrain': 6.0, 'Myanmar': 218.0, 'Burundi': 20.0, 'Iraq': 6476.0, 'Egypt': 877.0, 'Burkina Faso': 53.0, 'India': 465.0, 'Algeria': 12.0, 'United States': 95.0, 'Philippines': 496.0, 'Greece': 0.0, 'Mali': 361.0, 'Libya': 289.0, 'Central African Republic': 601.0, 'Nigeria': 1805.0, 'Lebanon': 17.0, 'Mexico': 23.0, 'Cameroon': 228.0, 'Ethiopia': 67.0, 'Kyrgyzstan': 0.0, 'Serbia': 0.0, 'Sweden': 5.0, 'Thailand': 72.0, 'Iran': 39.0, 'France': 7.0, 'United Kingdom': 42.0, 'West Bank and Gaza Strip': 50.0, 'Ukraine': 40.0, 'Paraguay': 4.0, 'Colombia': 84.0, 'Malaysia': 4.0, 'Russia': 61.0, 'Kosovo': 0.0, 'South Africa': 21.0, 'Chile': 0.0, 'Kenya': 126.0, 'Israel': 3.0, 'Saudi Arabia': 31.0, 'China': 16.0, 'Nepal': 4.0, 'Ecuador': 0.0, 'Niger': 148.0, 'Venezuela': 5.0, 'South Sudan': 581.0, 'Canada': 6.0, 'Bangladesh': 25.0, 'Tajikistan': 1.0, 'Angola': 7.0, 'Ireland': 0.0, 'Peru': 8.0, 'Dominican Republic': 2.0, 'Poland': 0.0, 'Jordan': 4.0, 'Azerbaijan': 5.0, 'Mozambique': 22.0, 'Indonesia': 20.0, 'Germany': 1.0, 'Brazil': 0.0, 'Macedonia': 0.0, 'Tunisia': 5.0, 'Uganda': 7.0, 'Chad': 62.0, 'Finland': 2.0, 'Australia': 4.0, 'Norway': 0.0, 'Vietnam': 0.0, 'Tanzania': 8.0, 'Sierra Leone': 0.0, 'Sri Lanka': 1.0, 'Maldives': 1.0, 'Belgium': 2.0, 'Rwanda': 2.0, 'Honduras': 2.0, 'Czech Republic': 0.0, 'Malta': 1.0, 'Gabon': 0.0, 'Laos': 1.0, 'Djibouti': 0, 'Austria': 2.0, 'Zambia': 0.0, 'Argentina': 0.0, 'Papua New Guinea': 0.0, 'Zimbabwe': 0.0, 'Ivory Coast': 3.0, 'Spain': 21.0, 'Taiwan': 0.0, 'Jamaica': 0.0, 'Albania': 0.0, 'Liberia': 0.0, 'Georgia': 0.0, 'Malawi': 0.0, 'Netherlands': 0.0, 'Latvia': 0.0}\n",
      "\n",
      "total kill count:26445.0\n"
     ]
    }
   ],
   "source": [
    "#Find Total no  of people killed from each country in yr 2017->\n",
    "import csv\n",
    "\n",
    "with open(\"year2017_csv_testFile2.csv\") as file_obj:\n",
    "    file_data=csv.DictReader(file_obj,skipinitialspace=True)\n",
    "    country_wise_killed={}\n",
    "    \n",
    "    for row in file_data:\n",
    "        country,kill_count=row['Country'], 0 if row['Killed']=='' else float(row['Killed'])\n",
    "        country_wise_killed[country]=country_wise_killed.get(country,0)+kill_count\n",
    "    \n",
    "    print(country_wise_killed)\n",
    "    print(f'\\ntotal kill count:{sum(country_wise_killed.values())}')"
   ]
  }
 ],
 "metadata": {
  "kernelspec": {
   "display_name": "base",
   "language": "python",
   "name": "python3"
  },
  "language_info": {
   "codemirror_mode": {
    "name": "ipython",
    "version": 3
   },
   "file_extension": ".py",
   "mimetype": "text/x-python",
   "name": "python",
   "nbconvert_exporter": "python",
   "pygments_lexer": "ipython3",
   "version": "3.9.7"
  },
  "vscode": {
   "interpreter": {
    "hash": "610a6f344c2137faf927ea819c63f6cee33a2c04455044b28099f39fe9722347"
   }
  }
 },
 "nbformat": 4,
 "nbformat_minor": 5
}
