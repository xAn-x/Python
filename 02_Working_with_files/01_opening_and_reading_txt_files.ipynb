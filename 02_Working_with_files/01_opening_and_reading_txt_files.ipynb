{
 "cells": [
  {
   "cell_type": "markdown",
   "id": "5a739ecd",
   "metadata": {},
   "source": [
    "-------------------------------------Open and read text files------------------------------------------"
   ]
  },
  {
   "cell_type": "code",
   "execution_count": 16,
   "id": "cf8a085c",
   "metadata": {},
   "outputs": [
    {
     "name": "stdout",
     "output_type": "stream",
     "text": [
      "Hello I am Deepanshu,\n",
      "\n",
      "And this is a file to test how data scientist work with txt files\n",
      "\n"
     ]
    }
   ],
   "source": [
    "#In Python there is no extra package we need to import in order to work with files\n",
    "\n",
    "#We can use basic inbuilt functions to work->\n",
    "    \n",
    "    # open(file_name(if in same dir)/file path,access mode)\n",
    "        \n",
    "        #Access mode types->\n",
    "            # 'r'->read mode ->we just want to acces the data inside file only->default mode is  'r' only\n",
    "            \n",
    "            # 'w'->write mode->we want to write in that file but as soon as we open file in 'w' mode it becomes empty(fresh file generated)\n",
    "            \n",
    "            # 'a'->append mode->If we want to append data in a file which already consist some\n",
    " \n",
    "file_obj=open(\"test_file.txt\")\n",
    "\n",
    "#read()->use to read data from the file\n",
    "#file_obj.read()\n",
    "\n",
    "\n",
    "\n",
    "# read(n)->read n bytes from the file\n",
    "# file_obj.read(10)\n",
    "\n",
    "\n",
    "\n",
    "#readline()->read the single line from the file \n",
    "print(file_obj.readline()) #-->reads the 1st line\n",
    "\n",
    "#readline(n)->read n bytes from that line and if n>total_chars it read full line only\n",
    "\n",
    "# NOTE->all these func use static var to store what is last fetch data and if u call it again it read data from the left part just like strtok()\n",
    "print(file_obj.readline()) #-->since called once already now reads next line\n",
    "\n",
    "\n",
    "# Note after using the file data one should always close it ->good practice\n",
    "file_obj.close()"
   ]
  },
  {
   "cell_type": "code",
   "execution_count": 4,
   "id": "e9138bec",
   "metadata": {},
   "outputs": [
    {
     "name": "stdout",
     "output_type": "stream",
     "text": [
      "And this is a file to test how data scientist work with txt files\n",
      "\n",
      "So Enjoy.............\n",
      "\n",
      "\n",
      "\n",
      "Now Below this everything is garbage txt\n",
      "\n",
      "\n",
      "\n",
      "Lorem ipsum dolor sit amet, consectetur adipiscing elit. Vivamus condimentum sagittis lacus, laoreet luctus ligula laoreet ut. Vestibulum ullamcorper accumsan velit vel vehicula. Proin tempor lacus arcu. Nunc at elit condimentum, semper nisi et, condimentum mi. In venenatis blandit nibh at sollicitudin. Vestibulum dapibus mauris at orci maximus pellentesque. Nullam id elementum ipsum. Suspendisse cursus lobortis viverra. Proin et erat at mauris tincidunt porttitor vitae ac dui.\n",
      "\n"
     ]
    }
   ],
   "source": [
    "#Reading file line by line....>\n",
    "\n",
    "#readline()->read one line at a time\n",
    "#readlines()->read whole para line by line and store it inside a list\n",
    "\n",
    "file_obj=open(\"test_file.txt\")\n",
    "l=file_obj.readlines()\n",
    "type(l) #-->This will return a list\n",
    "\n",
    "for lines in l[1:7]:\n",
    "    print(lines)\n",
    "    \n",
    "#all functions applicable to list are valid in this case only\n",
    "file_obj.close()"
   ]
  },
  {
   "cell_type": "code",
   "execution_count": 25,
   "id": "f13a14ec",
   "metadata": {},
   "outputs": [
    {
     "name": "stdout",
     "output_type": "stream",
     "text": [
      "Now Below this everything is garbage txt\n",
      "\n"
     ]
    }
   ],
   "source": [
    "#-----------------Better way to access file data-------------------------------------\n",
    "\n",
    "#Auto closing file->\n",
    "\n",
    "#manier times we forgot to close file so to avoid it do->\n",
    "    #Syntax-> with open(\"file_name\",access Mode) as objectName:\n",
    "                        #------all ur work inside here-----------\n",
    "\n",
    "with open(\"test_file.txt\") as file_obj:\n",
    "    lst=file_obj.readlines()\n",
    "\n",
    "print(lst[4]) #->file is auto closed but since i stored data inside lst so can use it "
   ]
  },
  {
   "cell_type": "code",
   "execution_count": 26,
   "id": "f2f14e67",
   "metadata": {},
   "outputs": [
    {
     "name": "stdout",
     "output_type": "stream",
     "text": [
      "Hello I am Deepanshu,\n",
      "\n",
      "And this is a file to test how data scientist work with txt files\n",
      "\n",
      "So Enjoy.............\n",
      "\n",
      "\n",
      "\n",
      "Now Below this everything is garbage txt\n",
      "\n"
     ]
    }
   ],
   "source": [
    "#WAP to print first 5 lines of sample.txt-->\n",
    "with open(\"test_file.txt\") as file_obj:\n",
    "    for i in range(5):\n",
    "        print(file_obj.readline())\n",
    "    "
   ]
  },
  {
   "cell_type": "markdown",
   "id": "93d2e936",
   "metadata": {},
   "source": [
    "---------Deleting a File-----------"
   ]
  },
  {
   "cell_type": "code",
   "execution_count": 1,
   "id": "3b632d09",
   "metadata": {},
   "outputs": [],
   "source": [
    "# You can use the remove() method to delete a file in python. \n",
    "\n",
    "# remove() method is a part of OS Library, so you need to import it.\n",
    "        \n",
    "# Os.remove(\"fileAddrs\",'x') #'x' specify that I want to delete this file\n",
    "\n",
    "\n",
    "# -------------------------seak() & tell()---------------------------\n",
    "\n",
    "#seak(posistion)-->move cursor to passed position\n",
    "#tell(posistion)-->tell current cursor position"
   ]
  },
  {
   "cell_type": "markdown",
   "id": "07e3d0de",
   "metadata": {},
   "source": [
    "----------------------------------write and append mod-----------------------------------"
   ]
  },
  {
   "cell_type": "code",
   "execution_count": 22,
   "id": "07dd01d6",
   "metadata": {},
   "outputs": [
    {
     "name": "stdout",
     "output_type": "stream",
     "text": [
      "Hello Bro I have created a new txt file\n",
      "\n",
      "Hello Bro I have created a new txt file\n",
      "\n",
      "Whats going on!!\n",
      "------------------------------------------------------------\n",
      "Hello Bro I have created a new txt file\n",
      "Whats going on!!\n",
      "Deepanshu\n",
      "Now go to hell bruh\n"
     ]
    }
   ],
   "source": [
    "# ------------WRITE MODE----------------------\n",
    "\n",
    "# If u try writing data in a file which already contain some data the python first\n",
    "# erase all its data and the write ur content\n",
    "\n",
    "\n",
    "# U can create a new file using \"w+\" it first search if there exist any file with\n",
    "# this name and if it over-write it else create a new file with same name\n",
    "with open(\"writeMod_tut.txt\",\"w+\") as file:\n",
    "    file.write(\"Hello Bro I have created a new txt file\\nWhats going on!!\")\n",
    "\n",
    "with open(\"writeMod_tut.txt\") as file:\n",
    "    line=file.readline()\n",
    "    print(line)\n",
    "    \n",
    "    file.seek(0)\n",
    "    # since I have seak cursor to 0th pos again 1st line will be printed\n",
    "    print(file.readline())\n",
    "    #since no seak() is called nxt line will be printed\n",
    "    print(file.readline())\n",
    "    \n",
    "    \n",
    "print(\"------------------------------------------------------------\")\n"
   ]
  },
  {
   "cell_type": "code",
   "execution_count": 5,
   "id": "1843b1fd",
   "metadata": {},
   "outputs": [
    {
     "name": "stdout",
     "output_type": "stream",
     "text": [
      "Hello Bro I have created a new txt file\n",
      "Whats going on!!\n",
      "Deepanshu\n",
      "Now go to hell bruh\n",
      "Deepanshu\n",
      "Now go to hell bruh\n"
     ]
    }
   ],
   "source": [
    "# ------------APPEND MODE----------------------\n",
    "\n",
    "with open(\"writeMod_tut.txt\",'a+') as file:\n",
    "    name=\"Deepanshu\"\n",
    "    file.write(\"\\n\")\n",
    "    file.write(name)\n",
    "    file.write(\"\\nNow go to hell bruh\")\n",
    "\n",
    "    \n",
    "with open(\"writeMod_tut.txt\") as file:\n",
    "    print(file.read())"
   ]
  },
  {
   "cell_type": "raw",
   "id": "65f18e0f",
   "metadata": {},
   "source": [
    "NOTE:-\n",
    "Whenever we want to open a file we need to sepcify its path,now in diffrent os diffrent symbols have diffrent meaning like \n",
    "path in mac ->drive/folder/file\n",
    "path in windows ->drive\\folder\\file\n",
    "\n",
    "So if u use diffrent os in future then u prog will crash so to handle it PYTHON has very imp module -> pathlib\n",
    "\n",
    "read more about it here->https://docs.python.org/3/library/pathli"
   ]
  },
  {
   "cell_type": "code",
   "execution_count": 6,
   "id": "7c34f9cb",
   "metadata": {},
   "outputs": [],
   "source": [
    "# EXERCISE-> U have to given a text file with a text your task is to translate that text into som other language and print result"
   ]
  },
  {
   "cell_type": "code",
   "execution_count": 9,
   "id": "03b7b175",
   "metadata": {},
   "outputs": [
    {
     "name": "stdout",
     "output_type": "stream",
     "text": [
      "你好，老兄，\n",
      "我是深圳巴特，我要把它翻译成其他语言\n",
      ":&gt;:\n",
      "):\n",
      "}:\n",
      "]\n"
     ]
    }
   ],
   "source": [
    "# translate is a module that use google translator in backend and help us in translation\n",
    "from translate import Translator\n",
    "\n",
    "with open(\"Translate_Me.txt\",'r+') as my_file:\n",
    "    text=my_file.read()\n",
    "\n",
    "    translator= Translator(to_lang=\"zh\")\n",
    "    translation= translator.translate(text)\n",
    "    \n",
    "    with open(\"Translation_res.txt\",'w') as new_file:\n",
    "        print(translation)\n",
    "#         new_file.write(text+\"in japanese is\\n\"+translation)\n",
    "\n",
    "#     print(translation)"
   ]
  },
  {
   "cell_type": "raw",
   "id": "fb7c69df",
   "metadata": {},
   "source": [
    "Enjoy :) :} :>"
   ]
  }
 ],
 "metadata": {
  "kernelspec": {
   "display_name": "base",
   "language": "python",
   "name": "python3"
  },
  "language_info": {
   "codemirror_mode": {
    "name": "ipython",
    "version": 3
   },
   "file_extension": ".py",
   "mimetype": "text/x-python",
   "name": "python",
   "nbconvert_exporter": "python",
   "pygments_lexer": "ipython3",
   "version": "3.9.7 (default, Sep 16 2021, 16:59:28) [MSC v.1916 64 bit (AMD64)]"
  },
  "vscode": {
   "interpreter": {
    "hash": "610a6f344c2137faf927ea819c63f6cee33a2c04455044b28099f39fe9722347"
   }
  }
 },
 "nbformat": 4,
 "nbformat_minor": 5
}
